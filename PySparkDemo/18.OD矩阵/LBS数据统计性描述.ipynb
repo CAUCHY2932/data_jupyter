{
 "cells": [
  {
   "cell_type": "code",
   "execution_count": 1,
   "metadata": {},
   "outputs": [],
   "source": [
    "import pyspark,pandas,datetime"
   ]
  },
  {
   "cell_type": "code",
   "execution_count": 2,
   "metadata": {},
   "outputs": [],
   "source": [
    "from pyspark.storagelevel import StorageLevel"
   ]
  },
  {
   "cell_type": "code",
   "execution_count": 3,
   "metadata": {},
   "outputs": [],
   "source": [
    "sc = pyspark.SparkContext()"
   ]
  },
  {
   "cell_type": "markdown",
   "metadata": {},
   "source": [
    "### 数据请见./data/readme.md"
   ]
  },
  {
   "cell_type": "code",
   "execution_count": 6,
   "metadata": {},
   "outputs": [],
   "source": [
    "rdd = sc.textFile(\"e:/110000.csv\")\\\n",
    ".persist(StorageLevel.MEMORY_AND_DISK_SER)"
   ]
  },
  {
   "cell_type": "code",
   "execution_count": 7,
   "metadata": {},
   "outputs": [
    {
     "data": {
      "text/plain": [
       "['2016-01-05 04:59:59,7d0971332e86c3e2920553e87044ac0a,116.580736,39.874868',\n",
       " '2016-01-05 05:00:00,a75008e5add9e088d5bd835b643f7d61,116.30374,40.044107',\n",
       " '2016-01-05 05:00:01,6403bc7585fb858d62b34299ed6fcfc4,116.398001,39.85221',\n",
       " '2016-01-05 05:00:00,47188e01448cedea702b100a504fe6ac,116.358788,39.854221',\n",
       " '2016-01-05 04:59:52,059475a2e6b75e35d5049b4e8f584396,116.011381,39.694151']"
      ]
     },
     "execution_count": 7,
     "metadata": {},
     "output_type": "execute_result"
    }
   ],
   "source": [
    "rdd.take(5)"
   ]
  },
  {
   "cell_type": "markdown",
   "metadata": {},
   "source": [
    "## 总记录数"
   ]
  },
  {
   "cell_type": "code",
   "execution_count": 8,
   "metadata": {},
   "outputs": [
    {
     "data": {
      "text/plain": [
       "343862"
      ]
     },
     "execution_count": 8,
     "metadata": {},
     "output_type": "execute_result"
    }
   ],
   "source": [
    "rdd.count()"
   ]
  },
  {
   "cell_type": "code",
   "execution_count": 18,
   "metadata": {},
   "outputs": [],
   "source": [
    "res = rdd.map(lambda line : (line.split(\",\")[1],1))\\\n",
    ".reduceByKey(lambda x,y:(x+y))\\\n",
    ".sortBy(lambda x : (x[1],x),ascending=False)\\\n",
    ".collect()"
   ]
  },
  {
   "cell_type": "code",
   "execution_count": 19,
   "metadata": {},
   "outputs": [],
   "source": [
    "pd = pandas.DataFrame(res)"
   ]
  },
  {
   "cell_type": "code",
   "execution_count": 20,
   "metadata": {},
   "outputs": [
    {
     "name": "stdout",
     "output_type": "stream",
     "text": [
      "总计有车辆数： 8028\n"
     ]
    }
   ],
   "source": [
    "print(\"总计有车辆数：\",len(pd))"
   ]
  },
  {
   "cell_type": "markdown",
   "metadata": {},
   "source": [
    "## 排名前20的数据"
   ]
  },
  {
   "cell_type": "code",
   "execution_count": 21,
   "metadata": {},
   "outputs": [
    {
     "data": {
      "text/html": [
       "<div>\n",
       "<style scoped>\n",
       "    .dataframe tbody tr th:only-of-type {\n",
       "        vertical-align: middle;\n",
       "    }\n",
       "\n",
       "    .dataframe tbody tr th {\n",
       "        vertical-align: top;\n",
       "    }\n",
       "\n",
       "    .dataframe thead th {\n",
       "        text-align: right;\n",
       "    }\n",
       "</style>\n",
       "<table border=\"1\" class=\"dataframe\">\n",
       "  <thead>\n",
       "    <tr style=\"text-align: right;\">\n",
       "      <th></th>\n",
       "      <th>0</th>\n",
       "      <th>1</th>\n",
       "    </tr>\n",
       "  </thead>\n",
       "  <tbody>\n",
       "    <tr>\n",
       "      <th>0</th>\n",
       "      <td>89cac57f1d6028aeb9d702fa353bff86</td>\n",
       "      <td>3963</td>\n",
       "    </tr>\n",
       "    <tr>\n",
       "      <th>1</th>\n",
       "      <td>e8fe4791e9a043dcf3fb567d5969a327</td>\n",
       "      <td>3790</td>\n",
       "    </tr>\n",
       "    <tr>\n",
       "      <th>2</th>\n",
       "      <td>6877c4b90ec348a5cbb226ce0790aa5c</td>\n",
       "      <td>1095</td>\n",
       "    </tr>\n",
       "    <tr>\n",
       "      <th>3</th>\n",
       "      <td>e03b8ea935007d83886601be21603633</td>\n",
       "      <td>794</td>\n",
       "    </tr>\n",
       "    <tr>\n",
       "      <th>4</th>\n",
       "      <td>35e6a4c4f5b4f9379d16a7133d24cae1</td>\n",
       "      <td>726</td>\n",
       "    </tr>\n",
       "    <tr>\n",
       "      <th>5</th>\n",
       "      <td>6d3724ea10543db709eaab5c820170b0</td>\n",
       "      <td>721</td>\n",
       "    </tr>\n",
       "    <tr>\n",
       "      <th>6</th>\n",
       "      <td>75fe982f37b768e348eadcec92d080c4</td>\n",
       "      <td>702</td>\n",
       "    </tr>\n",
       "    <tr>\n",
       "      <th>7</th>\n",
       "      <td>7143510ffdbd5bef813a244e1981c5e4</td>\n",
       "      <td>701</td>\n",
       "    </tr>\n",
       "    <tr>\n",
       "      <th>8</th>\n",
       "      <td>4a3c796403a2bb1b921ba79b4331e7f2</td>\n",
       "      <td>701</td>\n",
       "    </tr>\n",
       "    <tr>\n",
       "      <th>9</th>\n",
       "      <td>bdd7ab02a9bbc5ffb9b2735185798ecc</td>\n",
       "      <td>700</td>\n",
       "    </tr>\n",
       "    <tr>\n",
       "      <th>10</th>\n",
       "      <td>4b1e00972d1e8946218672fc874b0265</td>\n",
       "      <td>700</td>\n",
       "    </tr>\n",
       "    <tr>\n",
       "      <th>11</th>\n",
       "      <td>931b14172505b994b6b3d25233cd9748</td>\n",
       "      <td>699</td>\n",
       "    </tr>\n",
       "    <tr>\n",
       "      <th>12</th>\n",
       "      <td>294acbe75403ed1207a9a02c889269f7</td>\n",
       "      <td>699</td>\n",
       "    </tr>\n",
       "    <tr>\n",
       "      <th>13</th>\n",
       "      <td>f11a35e8f494717c6a77d9741c8ad0b3</td>\n",
       "      <td>694</td>\n",
       "    </tr>\n",
       "    <tr>\n",
       "      <th>14</th>\n",
       "      <td>47c4ebd82898a4d3f9754b3d44f7281c</td>\n",
       "      <td>576</td>\n",
       "    </tr>\n",
       "    <tr>\n",
       "      <th>15</th>\n",
       "      <td>c1d77c74af8dafe6ca7a68670d564aed</td>\n",
       "      <td>467</td>\n",
       "    </tr>\n",
       "    <tr>\n",
       "      <th>16</th>\n",
       "      <td>0a43970b7752c37ba50a26bd484751c7</td>\n",
       "      <td>466</td>\n",
       "    </tr>\n",
       "    <tr>\n",
       "      <th>17</th>\n",
       "      <td>d7976715780f0f05d5fcf4cd047445e9</td>\n",
       "      <td>462</td>\n",
       "    </tr>\n",
       "    <tr>\n",
       "      <th>18</th>\n",
       "      <td>d513fd32e5bef00b4b90a3d1bd3734be</td>\n",
       "      <td>449</td>\n",
       "    </tr>\n",
       "    <tr>\n",
       "      <th>19</th>\n",
       "      <td>ff3b2e9bdcc4880a72798a8d1c7fad11</td>\n",
       "      <td>409</td>\n",
       "    </tr>\n",
       "  </tbody>\n",
       "</table>\n",
       "</div>"
      ],
      "text/plain": [
       "                                   0     1\n",
       "0   89cac57f1d6028aeb9d702fa353bff86  3963\n",
       "1   e8fe4791e9a043dcf3fb567d5969a327  3790\n",
       "2   6877c4b90ec348a5cbb226ce0790aa5c  1095\n",
       "3   e03b8ea935007d83886601be21603633   794\n",
       "4   35e6a4c4f5b4f9379d16a7133d24cae1   726\n",
       "5   6d3724ea10543db709eaab5c820170b0   721\n",
       "6   75fe982f37b768e348eadcec92d080c4   702\n",
       "7   7143510ffdbd5bef813a244e1981c5e4   701\n",
       "8   4a3c796403a2bb1b921ba79b4331e7f2   701\n",
       "9   bdd7ab02a9bbc5ffb9b2735185798ecc   700\n",
       "10  4b1e00972d1e8946218672fc874b0265   700\n",
       "11  931b14172505b994b6b3d25233cd9748   699\n",
       "12  294acbe75403ed1207a9a02c889269f7   699\n",
       "13  f11a35e8f494717c6a77d9741c8ad0b3   694\n",
       "14  47c4ebd82898a4d3f9754b3d44f7281c   576\n",
       "15  c1d77c74af8dafe6ca7a68670d564aed   467\n",
       "16  0a43970b7752c37ba50a26bd484751c7   466\n",
       "17  d7976715780f0f05d5fcf4cd047445e9   462\n",
       "18  d513fd32e5bef00b4b90a3d1bd3734be   449\n",
       "19  ff3b2e9bdcc4880a72798a8d1c7fad11   409"
      ]
     },
     "execution_count": 21,
     "metadata": {},
     "output_type": "execute_result"
    }
   ],
   "source": [
    "pd.head(20)"
   ]
  },
  {
   "cell_type": "code",
   "execution_count": 22,
   "metadata": {},
   "outputs": [],
   "source": [
    "def mymap(line):\n",
    "    xy = line.split(\",\")\n",
    "    x = float(xy[2])\n",
    "    y = float(xy[3])\n",
    "    return (\"extent\",[x,x,y,y])"
   ]
  },
  {
   "cell_type": "code",
   "execution_count": 23,
   "metadata": {},
   "outputs": [],
   "source": [
    "res = rdd.map(lambda line:mymap(line))\\\n",
    ".reduceByKey(lambda x,y : (max(x[0],y[0]),\n",
    "                           min(x[1],y[1]),\n",
    "                           max(x[2],y[2]),\n",
    "                           min(x[3],y[3]))).collect()"
   ]
  },
  {
   "cell_type": "markdown",
   "metadata": {},
   "source": [
    "## 空间范围"
   ]
  },
  {
   "cell_type": "code",
   "execution_count": 24,
   "metadata": {},
   "outputs": [
    {
     "data": {
      "text/plain": [
       "[('extent', (117.499035, 115.20195, 41.09803, 39.400021))]"
      ]
     },
     "execution_count": 24,
     "metadata": {},
     "output_type": "execute_result"
    }
   ],
   "source": [
    "res"
   ]
  },
  {
   "cell_type": "markdown",
   "metadata": {},
   "source": [
    "## 时间范围"
   ]
  },
  {
   "cell_type": "code",
   "execution_count": 25,
   "metadata": {},
   "outputs": [
    {
     "data": {
      "text/plain": [
       "['2016-01-05 00:00:02,212129de5f2e3cdb98c45361c5aebcb7,116.426608,39.949036']"
      ]
     },
     "execution_count": 25,
     "metadata": {},
     "output_type": "execute_result"
    }
   ],
   "source": [
    "rdd.sortBy(lambda line : (datetime.datetime.strptime(line.split(\",\")[0], \n",
    "                                                      '%Y-%m-%d %H:%M:%S'),line),\n",
    "           ascending=True).take(1)"
   ]
  },
  {
   "cell_type": "code",
   "execution_count": 26,
   "metadata": {},
   "outputs": [
    {
     "data": {
      "text/plain": [
       "['2016-01-05 10:11:32,384cf23faf81ec9d3a84006338546124,116.502436,39.988393']"
      ]
     },
     "execution_count": 26,
     "metadata": {},
     "output_type": "execute_result"
    }
   ],
   "source": [
    "rdd.sortBy(lambda line : (datetime.datetime.strptime(line.split(\",\")[0], \n",
    "                                                      '%Y-%m-%d %H:%M:%S'),line),\n",
    "           ascending=False).take(1)"
   ]
  },
  {
   "cell_type": "markdown",
   "metadata": {},
   "source": [
    "# 数据分布密度"
   ]
  },
  {
   "cell_type": "code",
   "execution_count": 27,
   "metadata": {},
   "outputs": [],
   "source": [
    "import pygeohash\n",
    "import matplotlib.pyplot as plt\n",
    "import numpy"
   ]
  },
  {
   "cell_type": "code",
   "execution_count": 28,
   "metadata": {},
   "outputs": [],
   "source": [
    "def geohashMap(line):\n",
    "    xy = line.split(\",\")\n",
    "    return (pygeohash.encode(float(xy[3]),\n",
    "                             float(xy[2]),5),1)"
   ]
  },
  {
   "cell_type": "code",
   "execution_count": 29,
   "metadata": {},
   "outputs": [],
   "source": [
    "res = rdd.map(lambda line : geohashMap(line))\\\n",
    ".reduceByKey(lambda x,y : x+y)\\\n",
    ".collect()"
   ]
  },
  {
   "cell_type": "code",
   "execution_count": 30,
   "metadata": {},
   "outputs": [],
   "source": [
    "x = []\n",
    "y = []\n",
    "z = []\n",
    "for r in res:\n",
    "    xy = pygeohash.decode(r[0])\n",
    "    x.append(float(xy[1]))\n",
    "    y.append(float(xy[0]))\n",
    "    z.append(r[1])"
   ]
  },
  {
   "cell_type": "markdown",
   "metadata": {},
   "source": [
    "## 利用ArcGIS进行核密度分析"
   ]
  },
  {
   "cell_type": "code",
   "execution_count": 31,
   "metadata": {},
   "outputs": [],
   "source": [
    "import arcpy"
   ]
  },
  {
   "cell_type": "code",
   "execution_count": 38,
   "metadata": {},
   "outputs": [
    {
     "data": {
      "text/plain": [
       "<Result 'in_memory/tempPnt'>"
      ]
     },
     "execution_count": 38,
     "metadata": {},
     "output_type": "execute_result"
    }
   ],
   "source": [
    "if arcpy.Exists(\"in_memory/tempPnt\"):\n",
    "    arcpy.Delete_management(\"in_memory/tempPnt\")\n",
    "feature_class = arcpy.CreateFeatureclass_management(\"in_memory\",\n",
    "                                                    \"tempPnt\", \"POINT\")[0]\n",
    "arcpy.AddField_management(\"in_memory/tempPnt\",\"v\",\"SHORT\")"
   ]
  },
  {
   "cell_type": "code",
   "execution_count": 39,
   "metadata": {},
   "outputs": [],
   "source": [
    "with arcpy.da.InsertCursor(feature_class, [\"SHAPE@XY\",\"v\"]) as cursor:\n",
    "    for r in res:\n",
    "        xy = pygeohash.decode(r[0])\n",
    "        cursor.insertRow([(float(xy[1]), float(xy[0])),r[1]])"
   ]
  },
  {
   "cell_type": "code",
   "execution_count": 40,
   "metadata": {},
   "outputs": [],
   "source": [
    "arcpy.CheckOutExtension(\"Spatial\")\n",
    "populationField = \"v\"\n",
    "cellSize = 0.001\n",
    "searchRadius = 0.1\n",
    "unit = \"SQUARE_KILOMETERS\""
   ]
  },
  {
   "cell_type": "code",
   "execution_count": 41,
   "metadata": {},
   "outputs": [],
   "source": [
    "outKernelDensity = arcpy.sa.KernelDensity(feature_class, populationField, cellSize,\n",
    "                                 searchRadius, unit)"
   ]
  },
  {
   "cell_type": "code",
   "execution_count": 42,
   "metadata": {},
   "outputs": [],
   "source": [
    "import json\n",
    "with arcpy.da.SearchCursor(\"./data/bj.shp\", [\"SHAPE@JSON\"]) as cursor:\n",
    "    for r in cursor:\n",
    "        bj = json.loads(r[0])[\"rings\"][0]"
   ]
  },
  {
   "cell_type": "code",
   "execution_count": 48,
   "metadata": {},
   "outputs": [
    {
     "data": {
      "image/png": "[encoded data removed]",
      "text/plain": [
       "<Figure size 1008x648 with 1 Axes>"
      ]
     },
     "metadata": {
      "needs_background": "light"
     },
     "output_type": "display_data"
    }
   ],
   "source": [
    "desc = arcpy.Describe(outKernelDensity).extent\n",
    "fig = plt.figure(figsize=(14,9))\n",
    "plt.imshow(arcpy.RasterToNumPyArray(outKernelDensity),\n",
    "           extent=[desc.XMin,desc.XMax,desc.YMin,desc.YMax],\n",
    "           cmap =plt.cm.jet)\n",
    "ax = fig.gca()\n",
    "ax.add_patch(plt.Polygon(bj,ec=\"gray\",fc=\"None\"))\n",
    "ax.set_xlim(115.1,117.6)\n",
    "ax.set_ylim(39.3,41.2)\n",
    "plt.show()"
   ]
  },
  {
   "cell_type": "code",
   "execution_count": null,
   "metadata": {},
   "outputs": [],
   "source": []
  }
 ],
 "metadata": {
  "kernelspec": {
   "display_name": "Python 3",
   "language": "python",
   "name": "python3"
  },
  "language_info": {
   "codemirror_mode": {
    "name": "ipython",
    "version": 3
   },
   "file_extension": ".py",
   "mimetype": "text/x-python",
   "name": "python",
   "nbconvert_exporter": "python",
   "pygments_lexer": "ipython3",
   "version": "3.6.6"
  }
 },
 "nbformat": 4,
 "nbformat_minor": 2
}
