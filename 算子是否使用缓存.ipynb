{
 "cells": [
  {
   "cell_type": "markdown",
   "metadata": {},
   "source": [
    "### 函数链的执行"
   ]
  },
  {
   "cell_type": "code",
   "execution_count": 1,
   "metadata": {},
   "outputs": [],
   "source": [
    "import random\n",
    "from datetime import datetime\n",
    "import pyspark"
   ]
  },
  {
   "cell_type": "code",
   "execution_count": 2,
   "metadata": {},
   "outputs": [],
   "source": [
    "sc = pyspark.SparkContext()"
   ]
  },
  {
   "cell_type": "markdown",
   "metadata": {},
   "source": [
    "## 两种不同的编写方式"
   ]
  },
  {
   "cell_type": "code",
   "execution_count": 3,
   "metadata": {},
   "outputs": [],
   "source": [
    "x = [chr(random.randint(65, 91)) for i in range(1000000)]"
   ]
  },
  {
   "cell_type": "code",
   "execution_count": 4,
   "metadata": {},
   "outputs": [],
   "source": [
    "rdd = sc.parallelize(x)"
   ]
  },
  {
   "cell_type": "markdown",
   "metadata": {},
   "source": [
    "### 第一种"
   ]
  },
  {
   "cell_type": "code",
   "execution_count": 6,
   "metadata": {},
   "outputs": [
    {
     "name": "stdout",
     "output_type": "stream",
     "text": [
      "0:00:00.608619\n",
      "---------------\n",
      "0:00:00.571089\n",
      "---------------\n",
      "0:00:01.179708\n",
      "###############\n",
      "[('N', 36976), ('R', 36905), ('J', 36892), ('T', 37046), ('C', 36985), ('B', 36890), ('D', 36871), ('H', 37219), ('G', 37358), ('V', 36953), ('P', 37080), ('K', 37183), ('X', 37151), ('[', 37167), ('L', 37363), ('A', 37053), ('Y', 36715), ('Q', 36789), ('M', 37101), ('F', 37057), ('U', 36685), ('I', 36889), ('W', 37147), ('Z', 37253), ('E', 36994), ('S', 36980), ('O', 37298)]\n",
      "[('N', 36976), ('R', 36905), ('J', 36892), ('T', 37046), ('C', 36985), ('B', 36890), ('D', 36871), ('H', 37219), ('G', 37358), ('V', 36953), ('P', 37080), ('K', 37183), ('X', 37151), ('[', 37167), ('L', 37363), ('A', 37053), ('Y', 36715), ('Q', 36789), ('M', 37101), ('F', 37057), ('U', 36685), ('I', 36889), ('W', 37147), ('Z', 37253), ('E', 36994), ('S', 36980), ('O', 37298)]\n"
     ]
    }
   ],
   "source": [
    "s = datetime.now()\n",
    "rdd2 = rdd.map(lambda a: (a, 1))\n",
    "res = rdd2.reduceByKey(lambda a, b: a + b).collect()\n",
    "rt1 = datetime.now() - s\n",
    "print(rt1)\n",
    "print('-'*15)\n",
    "s = datetime.now()\n",
    "res2 = rdd2.reduceByKey(lambda a, b: a + b).collect()\n",
    "rt2 = datetime.now() - s\n",
    "print(rt2)\n",
    "print('-'*15)\n",
    "print(rt1+rt2)\n",
    "print('#'*15)\n",
    "print(res)\n",
    "print(res2)"
   ]
  },
  {
   "cell_type": "markdown",
   "metadata": {},
   "source": [
    "## 第二种,使用缓存"
   ]
  },
  {
   "cell_type": "code",
   "execution_count": 7,
   "metadata": {},
   "outputs": [
    {
     "name": "stdout",
     "output_type": "stream",
     "text": [
      "0:00:00.751239\n",
      "---------------\n",
      "0:00:00.023476\n",
      "---------------\n",
      "0:00:00.774715\n",
      "###############\n",
      "[('N', 36976), ('R', 36905), ('J', 36892), ('T', 37046), ('C', 36985), ('B', 36890), ('D', 36871), ('H', 37219), ('G', 37358), ('V', 36953), ('P', 37080), ('K', 37183), ('X', 37151), ('[', 37167), ('L', 37363), ('A', 37053), ('Y', 36715), ('Q', 36789), ('M', 37101), ('F', 37057), ('U', 36685), ('I', 36889), ('W', 37147), ('Z', 37253), ('E', 36994), ('S', 36980), ('O', 37298)]\n",
      "[('N', 36976), ('R', 36905), ('J', 36892), ('T', 37046), ('C', 36985), ('B', 36890), ('D', 36871), ('H', 37219), ('G', 37358), ('V', 36953), ('P', 37080), ('K', 37183), ('X', 37151), ('[', 37167), ('L', 37363), ('A', 37053), ('Y', 36715), ('Q', 36789), ('M', 37101), ('F', 37057), ('U', 36685), ('I', 36889), ('W', 37147), ('Z', 37253), ('E', 36994), ('S', 36980), ('O', 37298)]\n"
     ]
    }
   ],
   "source": [
    "rdd2 = rdd.map(lambda a: (a, 1))\n",
    "rdd2 = rdd2.reduceByKey(lambda a, b: a + b).cache()\n",
    "s = datetime.now()\n",
    "res = rdd2.collect()\n",
    "rt1 = datetime.now() - s\n",
    "print(rt1)\n",
    "print('-'*15)\n",
    "s = datetime.now()\n",
    "res2 = rdd2.collect()\n",
    "rt2 = datetime.now() - s\n",
    "print(rt2)\n",
    "print('-'*15)\n",
    "print(rt1+rt2)\n",
    "print('#'*15)\n",
    "print(res)\n",
    "print(res2)"
   ]
  },
  {
   "cell_type": "raw",
   "metadata": {},
   "source": [
    "可以看到使用缓存的速度非常快"
   ]
  },
  {
   "cell_type": "code",
   "execution_count": null,
   "metadata": {},
   "outputs": [],
   "source": []
  }
 ],
 "metadata": {
  "kernelspec": {
   "display_name": "Python 3",
   "language": "python",
   "name": "python3"
  },
  "language_info": {
   "codemirror_mode": {
    "name": "ipython",
    "version": 3
   },
   "file_extension": ".py",
   "mimetype": "text/x-python",
   "name": "python",
   "nbconvert_exporter": "python",
   "pygments_lexer": "ipython3",
   "version": "3.7.1"
  }
 },
 "nbformat": 4,
 "nbformat_minor": 2
}
