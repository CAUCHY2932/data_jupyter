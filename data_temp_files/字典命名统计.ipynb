{
 "cells": [
  {
   "cell_type": "markdown",
   "metadata": {},
   "source": [
    "## 字典命名 统计"
   ]
  },
  {
   "cell_type": "markdown",
   "metadata": {},
   "source": [
    "#### 目标：如何为元组中的每个元素命名，提高程序可读性"
   ]
  },
  {
   "cell_type": "raw",
   "metadata": {},
   "source": [
    "学生信息，是结构化的，当我们访问元组中的字段时，需要大量的索引，非常消耗性能"
   ]
  },
  {
   "cell_type": "raw",
   "metadata": {},
   "source": [
    "c语言中，利用宏定义，或是枚举类型，可以解决这个问题"
   ]
  },
  {
   "cell_type": "code",
   "execution_count": 2,
   "metadata": {},
   "outputs": [],
   "source": [
    "from collections import namedtuple"
   ]
  },
  {
   "cell_type": "code",
   "execution_count": 4,
   "metadata": {},
   "outputs": [],
   "source": [
    "student = namedtuple('student', ['name', \n",
    "                                'age',\n",
    "                                'sex', \n",
    "                                'email'])"
   ]
  },
  {
   "cell_type": "code",
   "execution_count": 5,
   "metadata": {},
   "outputs": [],
   "source": [
    "s = student('zhangsan', 23, 'male', '9000@qq.com')"
   ]
  },
  {
   "cell_type": "code",
   "execution_count": 6,
   "metadata": {},
   "outputs": [
    {
     "data": {
      "text/plain": [
       "student(name='zhangsan', age=23, sex='male', email='9000@qq.com')"
      ]
     },
     "execution_count": 6,
     "metadata": {},
     "output_type": "execute_result"
    }
   ],
   "source": [
    "s"
   ]
  },
  {
   "cell_type": "code",
   "execution_count": 7,
   "metadata": {},
   "outputs": [],
   "source": [
    "s2 = student(name='lisi',\n",
    "            age=45,\n",
    "            sex='female',\n",
    "            email='85768@134.com')"
   ]
  },
  {
   "cell_type": "code",
   "execution_count": 8,
   "metadata": {},
   "outputs": [
    {
     "data": {
      "text/plain": [
       "student(name='lisi', age=45, sex='female', email='85768@134.com')"
      ]
     },
     "execution_count": 8,
     "metadata": {},
     "output_type": "execute_result"
    }
   ],
   "source": [
    "s2"
   ]
  },
  {
   "cell_type": "code",
   "execution_count": 9,
   "metadata": {},
   "outputs": [
    {
     "data": {
      "text/plain": [
       "'lisi'"
      ]
     },
     "execution_count": 9,
     "metadata": {},
     "output_type": "execute_result"
    }
   ],
   "source": [
    "s2.name"
   ]
  },
  {
   "cell_type": "markdown",
   "metadata": {},
   "source": [
    "### 如何统计序列中元素的出现频度"
   ]
  },
  {
   "cell_type": "raw",
   "metadata": {},
   "source": [
    "某随机序列中找到出现次数最高的3个元素，他们出现的次数是多少？"
   ]
  },
  {
   "cell_type": "code",
   "execution_count": 10,
   "metadata": {},
   "outputs": [],
   "source": [
    "from random import randint"
   ]
  },
  {
   "cell_type": "code",
   "execution_count": 11,
   "metadata": {},
   "outputs": [],
   "source": [
    "rand_arr = [randint(0, 20) for _ in range(30)]"
   ]
  },
  {
   "cell_type": "code",
   "execution_count": 12,
   "metadata": {},
   "outputs": [
    {
     "data": {
      "text/plain": [
       "[20,\n",
       " 18,\n",
       " 4,\n",
       " 14,\n",
       " 2,\n",
       " 18,\n",
       " 4,\n",
       " 4,\n",
       " 20,\n",
       " 5,\n",
       " 13,\n",
       " 1,\n",
       " 6,\n",
       " 11,\n",
       " 4,\n",
       " 19,\n",
       " 1,\n",
       " 7,\n",
       " 19,\n",
       " 3,\n",
       " 15,\n",
       " 2,\n",
       " 6,\n",
       " 16,\n",
       " 5,\n",
       " 5,\n",
       " 6,\n",
       " 6,\n",
       " 15,\n",
       " 6]"
      ]
     },
     "execution_count": 12,
     "metadata": {},
     "output_type": "execute_result"
    }
   ],
   "source": [
    "rand_arr"
   ]
  },
  {
   "cell_type": "code",
   "execution_count": 13,
   "metadata": {},
   "outputs": [],
   "source": [
    "c = dict.fromkeys(rand_arr, 0)"
   ]
  },
  {
   "cell_type": "code",
   "execution_count": 14,
   "metadata": {},
   "outputs": [
    {
     "data": {
      "text/plain": [
       "{20: 0,\n",
       " 18: 0,\n",
       " 4: 0,\n",
       " 14: 0,\n",
       " 2: 0,\n",
       " 5: 0,\n",
       " 13: 0,\n",
       " 1: 0,\n",
       " 6: 0,\n",
       " 11: 0,\n",
       " 19: 0,\n",
       " 7: 0,\n",
       " 3: 0,\n",
       " 15: 0,\n",
       " 16: 0}"
      ]
     },
     "execution_count": 14,
     "metadata": {},
     "output_type": "execute_result"
    }
   ],
   "source": [
    "c"
   ]
  },
  {
   "cell_type": "code",
   "execution_count": 16,
   "metadata": {},
   "outputs": [],
   "source": [
    "for x in rand_arr:\n",
    "    c[x] += 1"
   ]
  },
  {
   "cell_type": "code",
   "execution_count": 17,
   "metadata": {},
   "outputs": [
    {
     "data": {
      "text/plain": [
       "{20: 2,\n",
       " 18: 2,\n",
       " 4: 4,\n",
       " 14: 1,\n",
       " 2: 2,\n",
       " 5: 3,\n",
       " 13: 1,\n",
       " 1: 2,\n",
       " 6: 5,\n",
       " 11: 1,\n",
       " 19: 2,\n",
       " 7: 1,\n",
       " 3: 1,\n",
       " 15: 2,\n",
       " 16: 1}"
      ]
     },
     "execution_count": 17,
     "metadata": {},
     "output_type": "execute_result"
    }
   ],
   "source": [
    "c"
   ]
  },
  {
   "cell_type": "code",
   "execution_count": 18,
   "metadata": {},
   "outputs": [],
   "source": [
    "from collections import Counter"
   ]
  },
  {
   "cell_type": "code",
   "execution_count": 19,
   "metadata": {},
   "outputs": [],
   "source": [
    "c2 = Counter(rand_arr)"
   ]
  },
  {
   "cell_type": "code",
   "execution_count": 20,
   "metadata": {},
   "outputs": [
    {
     "data": {
      "text/plain": [
       "Counter({20: 2,\n",
       "         18: 2,\n",
       "         4: 4,\n",
       "         14: 1,\n",
       "         2: 2,\n",
       "         5: 3,\n",
       "         13: 1,\n",
       "         1: 2,\n",
       "         6: 5,\n",
       "         11: 1,\n",
       "         19: 2,\n",
       "         7: 1,\n",
       "         3: 1,\n",
       "         15: 2,\n",
       "         16: 1})"
      ]
     },
     "execution_count": 20,
     "metadata": {},
     "output_type": "execute_result"
    }
   ],
   "source": [
    "c2"
   ]
  },
  {
   "cell_type": "code",
   "execution_count": 21,
   "metadata": {},
   "outputs": [
    {
     "data": {
      "text/plain": [
       "[(6, 5), (4, 4), (5, 3)]"
      ]
     },
     "execution_count": 21,
     "metadata": {},
     "output_type": "execute_result"
    }
   ],
   "source": [
    "c2.most_common(3)"
   ]
  },
  {
   "cell_type": "markdown",
   "metadata": {},
   "source": [
    "### 英文文章词频统计"
   ]
  },
  {
   "cell_type": "code",
   "execution_count": 22,
   "metadata": {},
   "outputs": [],
   "source": [
    "import re"
   ]
  },
  {
   "cell_type": "code",
   "execution_count": null,
   "metadata": {},
   "outputs": [],
   "source": []
  }
 ],
 "metadata": {
  "kernelspec": {
   "display_name": "Python 3",
   "language": "python",
   "name": "python3"
  },
  "language_info": {
   "codemirror_mode": {
    "name": "ipython",
    "version": 3
   },
   "file_extension": ".py",
   "mimetype": "text/x-python",
   "name": "python",
   "nbconvert_exporter": "python",
   "pygments_lexer": "ipython3",
   "version": "3.7.1"
  }
 },
 "nbformat": 4,
 "nbformat_minor": 2
}
