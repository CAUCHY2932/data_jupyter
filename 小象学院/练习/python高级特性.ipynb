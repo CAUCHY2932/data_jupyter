{
 "cells": [
  {
   "cell_type": "markdown",
   "metadata": {},
   "source": [
    "# 列表推导"
   ]
  },
  {
   "cell_type": "code",
   "execution_count": 3,
   "metadata": {},
   "outputs": [],
   "source": [
    "result=[i for i in range(1000) if i%2==0]\n",
    "# result"
   ]
  },
  {
   "cell_type": "code",
   "execution_count": 4,
   "metadata": {},
   "outputs": [
    {
     "name": "stdout",
     "output_type": "stream",
     "text": [
      "['WELCOME', 'PYTHON', 'ANALYSIS', 'COURSE']\n"
     ]
    }
   ],
   "source": [
    "str_lst=['welcome','to','python','data','analysis','course']\n",
    "result3=[x.upper() for x in str_lst if len(x)>4]\n",
    "print(result3)"
   ]
  },
  {
   "cell_type": "markdown",
   "metadata": {},
   "source": [
    "# 字典推导式"
   ]
  },
  {
   "cell_type": "code",
   "execution_count": 5,
   "metadata": {},
   "outputs": [
    {
     "name": "stdout",
     "output_type": "stream",
     "text": [
      "{0: 9, 1: 8, 2: 7, 3: 6, 4: 5, 5: 4, 6: 3, 7: 2, 8: 1, 9: 0}\n"
     ]
    }
   ],
   "source": [
    "dict={key:value for key,value in enumerate(reversed(range(10)))}\n",
    "print(dict)"
   ]
  },
  {
   "cell_type": "markdown",
   "metadata": {},
   "source": [
    "# 集合推导式"
   ]
  },
  {
   "cell_type": "code",
   "execution_count": 7,
   "metadata": {},
   "outputs": [
    {
     "name": "stdout",
     "output_type": "stream",
     "text": [
      "{0, 1, 2, 3, 4, 5, 6, 7, 8, 9}\n"
     ]
    }
   ],
   "source": [
    "set1={i for i in range(10)}\n",
    "print(set1)"
   ]
  },
  {
   "cell_type": "markdown",
   "metadata": {},
   "source": [
    "# 嵌套推导式"
   ]
  },
  {
   "cell_type": "code",
   "execution_count": 9,
   "metadata": {},
   "outputs": [
    {
     "name": "stdout",
     "output_type": "stream",
     "text": [
      "[[0, 1, 2, 3, 4, 5, 6, 7, 8, 9], [10, 11, 12, 13, 14, 15, 16, 17, 18, 19]]\n"
     ]
    }
   ],
   "source": [
    "lists=[list(range(10)),list(range(10,20))]\n",
    "print(lists)"
   ]
  },
  {
   "cell_type": "code",
   "execution_count": 15,
   "metadata": {},
   "outputs": [
    {
     "name": "stdout",
     "output_type": "stream",
     "text": [
      "[0, 2, 4, 6, 8, 10, 12, 14, 16, 18]\n",
      "<class 'list'>\n",
      "[0, 2, 4, 6, 8, 10, 12, 14, 16, 18]\n",
      "<class 'list'>\n"
     ]
    }
   ],
   "source": [
    "evens=[item for lst in lists for item in lst if item%2==0]\n",
    "print(evens)\n",
    "print(type(evens))\n",
    "#与下式等价\n",
    "\n",
    "a=[]\n",
    "for item in lists:\n",
    "    for item in item:\n",
    "        if item%2==0:\n",
    "            a.append(item)\n",
    "print(a)\n",
    "print(type(a))"
   ]
  },
  {
   "cell_type": "markdown",
   "metadata": {},
   "source": [
    "# 多函数模式"
   ]
  },
  {
   "cell_type": "code",
   "execution_count": 20,
   "metadata": {},
   "outputs": [
    {
     "name": "stdout",
     "output_type": "stream",
     "text": [
      "['1.23', '1123.454', '899.12312']\n"
     ]
    }
   ],
   "source": [
    "# 处理字符串\n",
    "str_lst=['$1.23','$1123.454','$899.12312',]\n",
    "def remove_space(str):\n",
    "    \"\"\"\n",
    "        remove space\n",
    "    \"\"\"\n",
    "    str_no_space=str.replace(' ','')\n",
    "    return str_no_space\n",
    "\n",
    "def remove_dollar(str):\n",
    "    \"\"\"\n",
    "        remove $\n",
    "    \"\"\"\n",
    "    if '$'in str:\n",
    "        return str.replace('$','')\n",
    "    else:\n",
    "        return str\n",
    "\n",
    "def clean_str_lst(str_lst,operations):\n",
    "    \"\"\"\n",
    "        clean string list\n",
    "    \"\"\"\n",
    "    result=[]\n",
    "    for item in str_lst:\n",
    "        for op in operations:\n",
    "            item = op(item)\n",
    "        result.append(item)\n",
    "    return result\n",
    "\n",
    "clean_operations=[remove_space,remove_dollar]\n",
    "result=clean_str_lst(str_lst,clean_operations)\n",
    "print(result)"
   ]
  },
  {
   "cell_type": "markdown",
   "metadata": {},
   "source": [
    "# 匿名函数"
   ]
  },
  {
   "cell_type": "code",
   "execution_count": 22,
   "metadata": {},
   "outputs": [
    {
     "data": {
      "text/plain": [
       "4"
      ]
     },
     "execution_count": 22,
     "metadata": {},
     "output_type": "execute_result"
    }
   ],
   "source": [
    "f=lambda x:x**2\n",
    "f(2)"
   ]
  },
  {
   "cell_type": "code",
   "execution_count": 26,
   "metadata": {},
   "outputs": [
    {
     "name": "stdout",
     "output_type": "stream",
     "text": [
      "['to', 'data', 'python', 'course', 'welcome', 'analysis']\n",
      "['data', 'course', 'welcome', 'python', 'to', 'analysis']\n"
     ]
    }
   ],
   "source": [
    "str_lst=['welcome','to','python','data','analysis','course']\n",
    "str_lst.sort(key=lambda x:len(x)) # sort by length\n",
    "print(str_lst)\n",
    "\n",
    "str_lst.sort(key=lambda x:x[-1]) # sort by the last letter\n",
    "print(str_lst)"
   ]
  },
  {
   "cell_type": "markdown",
   "metadata": {},
   "source": [
    "# 生成器 generator"
   ]
  },
  {
   "cell_type": "code",
   "execution_count": 36,
   "metadata": {},
   "outputs": [
    {
     "name": "stdout",
     "output_type": "stream",
     "text": [
      "<class 'generator'>\n",
      "<generator object gen_test at 0x0000022126D79888>\n"
     ]
    }
   ],
   "source": [
    "def gen_test():\n",
    "    for i in range(3):\n",
    "        yield i\n",
    "        \n",
    "gen=gen_test() # 此时不执行生成器\n",
    "print(type(gen))\n",
    "print(gen)"
   ]
  },
  {
   "cell_type": "code",
   "execution_count": 37,
   "metadata": {},
   "outputs": [
    {
     "name": "stdout",
     "output_type": "stream",
     "text": [
      "0\n",
      "1\n",
      "2\n"
     ]
    }
   ],
   "source": [
    "for i in gen:# 直到迭代时才执行\n",
    "    print(i)"
   ]
  },
  {
   "cell_type": "markdown",
   "metadata": {},
   "source": [
    "# python 高阶函数"
   ]
  },
  {
   "cell_type": "markdown",
   "metadata": {},
   "source": [
    "* 函数式编程\n",
    "    * 函数本身也可以赋值给变量"
   ]
  },
  {
   "cell_type": "code",
   "execution_count": 39,
   "metadata": {},
   "outputs": [
    {
     "data": {
      "text/plain": [
       "5.0"
      ]
     },
     "execution_count": 39,
     "metadata": {},
     "output_type": "execute_result"
    }
   ],
   "source": [
    "import math\n",
    "math.sqrt(25)"
   ]
  },
  {
   "cell_type": "code",
   "execution_count": 40,
   "metadata": {},
   "outputs": [
    {
     "data": {
      "text/plain": [
       "<function math.sqrt>"
      ]
     },
     "execution_count": 40,
     "metadata": {},
     "output_type": "execute_result"
    }
   ],
   "source": [
    "math.sqrt"
   ]
  },
  {
   "cell_type": "code",
   "execution_count": 41,
   "metadata": {},
   "outputs": [
    {
     "data": {
      "text/plain": [
       "<function math.sqrt>"
      ]
     },
     "execution_count": 41,
     "metadata": {},
     "output_type": "execute_result"
    }
   ],
   "source": [
    "fun=math.sqrt\n",
    "fun"
   ]
  },
  {
   "cell_type": "code",
   "execution_count": 42,
   "metadata": {},
   "outputs": [
    {
     "data": {
      "text/plain": [
       "3.1622776601683795"
      ]
     },
     "execution_count": 42,
     "metadata": {},
     "output_type": "execute_result"
    }
   ],
   "source": [
    "fun(10)"
   ]
  },
  {
   "cell_type": "markdown",
   "metadata": {},
   "source": [
    "* 将函数作为参数"
   ]
  },
  {
   "cell_type": "code",
   "execution_count": 44,
   "metadata": {},
   "outputs": [
    {
     "name": "stdout",
     "output_type": "stream",
     "text": [
      "7.0\n",
      "29\n"
     ]
    }
   ],
   "source": [
    "def func_add(x,y,f):\n",
    "    \"\"\"\n",
    "        functional addtion\n",
    "    \"\"\"\n",
    "    return f(x)+f(y)\n",
    "\n",
    "print(func_add(4,25,math.sqrt))\n",
    "print(func_add(-4,25,abs))"
   ]
  },
  {
   "cell_type": "markdown",
   "metadata": {},
   "source": [
    "# map/reduce\n",
    "* map"
   ]
  },
  {
   "cell_type": "code",
   "execution_count": 51,
   "metadata": {},
   "outputs": [
    {
     "name": "stdout",
     "output_type": "stream",
     "text": [
      "[0, 1, 4, 9, 16, 25, 36, 49, 64, 81]\n",
      "<class 'list'>\n",
      "<map object at 0x0000022126DA9438>\n",
      "<map object at 0x0000022126DA9470>\n",
      "<map object at 0x0000022126DA9240>\n"
     ]
    }
   ],
   "source": [
    "x_2=[x**2 for x in range(10)]\n",
    "print(x_2)\n",
    "print(type(x_2))\n",
    "\n",
    "x_sqrt_lst=map(math.sqrt,x_2)\n",
    "print(x_sqrt_lst)\n",
    "\n",
    "x_2_float_lst=map(float,x_2)\n",
    "print(x_2_float_lst)\n",
    "\n",
    "x_2_str_lst=map(str,x_2)\n",
    "print(x_2_str_lst)"
   ]
  },
  {
   "cell_type": "markdown",
   "metadata": {},
   "source": [
    "* reduce"
   ]
  },
  {
   "cell_type": "code",
   "execution_count": 55,
   "metadata": {},
   "outputs": [
    {
     "name": "stdout",
     "output_type": "stream",
     "text": [
      "<map object at 0x0000022126DA9668>\n",
      "1234\n"
     ]
    }
   ],
   "source": [
    "from functools import reduce\n",
    "str_lst=map(str,range(5)) # ['0','1', ...]\n",
    "print(str_lst)\n",
    "\n",
    "def make_num(str1,str2):\n",
    "    return int(str1)*10+int(str2)\n",
    "\n",
    "result=reduce(make_num,str_lst)\n",
    "print(result)"
   ]
  },
  {
   "cell_type": "markdown",
   "metadata": {},
   "source": [
    "# 规范字符串"
   ]
  },
  {
   "cell_type": "code",
   "execution_count": 59,
   "metadata": {},
   "outputs": [
    {
     "name": "stdout",
     "output_type": "stream",
     "text": [
      "<map object at 0x0000022126DA9A90>\n",
      "['Ponny Ma', 'Robin Li', 'Steve Jobs', 'Bill Gates']\n"
     ]
    }
   ],
   "source": [
    "name_lst=['poNNY MA','rObIN li','steve JOBS','BILL gates']\n",
    "# title方法，使得首字母大写\n",
    "standard_name_lst=map(str.title,name_lst)\n",
    "print(standard_name_lst)\n",
    "# 想要打印的结果需要使用list来转换\n",
    "print(list(standard_name_lst))"
   ]
  },
  {
   "cell_type": "markdown",
   "metadata": {},
   "source": [
    "# filter"
   ]
  },
  {
   "cell_type": "code",
   "execution_count": 61,
   "metadata": {},
   "outputs": [
    {
     "name": "stdout",
     "output_type": "stream",
     "text": [
      "range(-10, 10)\n",
      "[-10, -9, -8, -7, -6, -5, -4, -3, -2, -1]\n",
      "<filter object at 0x0000022126DA9358>\n"
     ]
    }
   ],
   "source": [
    "number_lst=range(-10,10)\n",
    "\n",
    "def is_negative(x):\n",
    "    return x<0\n",
    "\n",
    "filtered_lst=filter(is_negative,number_lst)\n",
    "print(number_lst)\n",
    "# 想要打印结果必须先转换成列表\n",
    "print(list(filtered_lst))\n",
    "print(filtered_lst)"
   ]
  },
  {
   "cell_type": "markdown",
   "metadata": {},
   "source": [
    "# map reduce filter 与匿名函数\n",
    "* map与匿名函数"
   ]
  },
  {
   "cell_type": "code",
   "execution_count": 63,
   "metadata": {},
   "outputs": [
    {
     "name": "stdout",
     "output_type": "stream",
     "text": [
      "range(0, 10)\n",
      "<map object at 0x0000022126DA9128>\n",
      "[0, 2, 12, 36, 80, 150, 252, 392, 576, 810]\n"
     ]
    }
   ],
   "source": [
    "x_lst=range(10)\n",
    "result_lst=map(lambda item:item**2+item**3,x_lst)\n",
    "print(x_lst)\n",
    "print(result_lst)\n",
    "print(list(result_lst))"
   ]
  },
  {
   "cell_type": "code",
   "execution_count": 65,
   "metadata": {},
   "outputs": [
    {
     "name": "stdout",
     "output_type": "stream",
     "text": [
      "range(1, 5)\n",
      "[1, 2, 3, 4]\n",
      "24\n"
     ]
    }
   ],
   "source": [
    "x_lst=range(1,5)\n",
    "product=reduce(lambda x,y:x*y,x_lst)\n",
    "print(x_lst)\n",
    "print(list(x_lst))\n",
    "print(product)"
   ]
  },
  {
   "cell_type": "markdown",
   "metadata": {},
   "source": [
    "# filter与匿名函数"
   ]
  },
  {
   "cell_type": "code",
   "execution_count": 68,
   "metadata": {},
   "outputs": [
    {
     "name": "stdout",
     "output_type": "stream",
     "text": [
      "range(-10, 10)\n",
      "[-10, -9, -8, -7, -6, -5, -4, -3, -2, -1, 0, 1, 2, 3, 4, 5, 6, 7, 8, 9]\n",
      "<filter object at 0x0000022126D84DA0>\n",
      "[-10, -9, -8, -7, -6, -5, -4, -3, -2, -1]\n"
     ]
    }
   ],
   "source": [
    "number_lst=range(-10,10)\n",
    "filtered_lst=filter(lambda x:x<0,number_lst)\n",
    "print(number_lst)\n",
    "print(list(number_lst))\n",
    "print(filtered_lst)\n",
    "print(list(filtered_lst))"
   ]
  },
  {
   "cell_type": "markdown",
   "metadata": {},
   "source": [
    "# numpy\n",
    "* ndarray"
   ]
  },
  {
   "cell_type": "code",
   "execution_count": 70,
   "metadata": {},
   "outputs": [
    {
     "name": "stdout",
     "output_type": "stream",
     "text": [
      "[[0.32986272 0.26370346 0.25862918]\n",
      " [0.33943247 0.60381036 0.77918519]]\n",
      "<class 'numpy.ndarray'>\n"
     ]
    }
   ],
   "source": [
    "import numpy as np\n",
    "# 生成指定维度的随机多维数据\n",
    "data=np.random.rand(2,3)\n",
    "print(data)\n",
    "print(type(data))"
   ]
  },
  {
   "cell_type": "markdown",
   "metadata": {},
   "source": [
    "* ndim,shape,dtype属性"
   ]
  },
  {
   "cell_type": "code",
   "execution_count": 72,
   "metadata": {},
   "outputs": [
    {
     "name": "stdout",
     "output_type": "stream",
     "text": [
      "维度个数 2\n",
      "各维度大小： (2, 3)\n",
      "数据类型： float64\n"
     ]
    }
   ],
   "source": [
    "print('维度个数',data.ndim)\n",
    "print('各维度大小：',data.shape)\n",
    "print('数据类型：',data.dtype)"
   ]
  },
  {
   "cell_type": "markdown",
   "metadata": {},
   "source": [
    "# 创建ndarray"
   ]
  },
  {
   "cell_type": "code",
   "execution_count": 73,
   "metadata": {},
   "outputs": [
    {
     "name": "stdout",
     "output_type": "stream",
     "text": [
      "[0 1 2 3 4 5 6 7 8 9]\n",
      "(10,)\n",
      "1\n"
     ]
    }
   ],
   "source": [
    "# list转换成ndarray\n",
    "lst=range(10)\n",
    "data=np.array(lst)\n",
    "print(data)\n",
    "print(data.shape)\n",
    "print(data.ndim)"
   ]
  },
  {
   "cell_type": "code",
   "execution_count": 74,
   "metadata": {},
   "outputs": [
    {
     "name": "stdout",
     "output_type": "stream",
     "text": [
      "[[0 1 2 3 4 5 6 7 8 9]\n",
      " [0 1 2 3 4 5 6 7 8 9]]\n",
      "(2, 10)\n"
     ]
    }
   ],
   "source": [
    "# 嵌套序列转换为ndarray\n",
    "lst2=[range(10),range(10)]\n",
    "data=np.array(lst2)\n",
    "print(data)\n",
    "print(data.shape)"
   ]
  },
  {
   "cell_type": "code",
   "execution_count": 75,
   "metadata": {},
   "outputs": [
    {
     "name": "stdout",
     "output_type": "stream",
     "text": [
      "[[0. 0. 0. 0.]\n",
      " [0. 0. 0. 0.]\n",
      " [0. 0. 0. 0.]]\n",
      "[[1. 1. 1.]\n",
      " [1. 1. 1.]]\n",
      "[[0.00000000e+000 0.00000000e+000 0.00000000e+000]\n",
      " [0.00000000e+000 0.00000000e+000 6.12641401e-321]\n",
      " [1.91077724e+214 6.01386193e-154 6.01347002e-154]]\n",
      "[[ 972    0  411]\n",
      " [ 545  732    0]\n",
      " [ 411  545 1056]]\n"
     ]
    }
   ],
   "source": [
    "# np.zeros,np.ones,np.empty\n",
    "\n",
    "# np.zeros\n",
    "zeros_arr=np.zeros((3,4))\n",
    "ones_arr=np.ones((2,3))\n",
    "empty_arr=np.empty((3,3))\n",
    "empty_int_arr=np.empty((3,3),int)\n",
    "print(zeros_arr)\n",
    "print(ones_arr)\n",
    "print(empty_arr)\n",
    "print(empty_int_arr)"
   ]
  },
  {
   "cell_type": "code",
   "execution_count": 76,
   "metadata": {},
   "outputs": [
    {
     "name": "stdout",
     "output_type": "stream",
     "text": [
      "[0 1 2 3 4 5 6 7 8 9]\n"
     ]
    }
   ],
   "source": [
    "# np.arange()\n",
    "print(np.arange(10))"
   ]
  },
  {
   "cell_type": "markdown",
   "metadata": {},
   "source": [
    "# ndarray数据类型"
   ]
  },
  {
   "cell_type": "code",
   "execution_count": 77,
   "metadata": {},
   "outputs": [],
   "source": [
    "# zeros_\n",
    "# 跳过"
   ]
  },
  {
   "cell_type": "markdown",
   "metadata": {},
   "source": [
    "# 矢量化"
   ]
  },
  {
   "cell_type": "code",
   "execution_count": 80,
   "metadata": {},
   "outputs": [
    {
     "name": "stdout",
     "output_type": "stream",
     "text": [
      "元素相乘\n",
      "[[ 1  4  9]\n",
      " [16 25 36]]\n",
      "矩阵相加\n",
      "[[ 2  4  6]\n",
      " [ 8 10 12]]\n"
     ]
    }
   ],
   "source": [
    "arr=np.array([[1,2,3],[4,5,6]])\n",
    "print('元素相乘')\n",
    "print(arr*arr)\n",
    "\n",
    "print('矩阵相加')\n",
    "print(arr+arr)"
   ]
  },
  {
   "cell_type": "code",
   "execution_count": 81,
   "metadata": {},
   "outputs": [
    {
     "name": "stdout",
     "output_type": "stream",
     "text": [
      "[[1.         0.5        0.33333333]\n",
      " [0.25       0.2        0.16666667]]\n",
      "[[ 2.  4.  6.]\n",
      " [ 8. 10. 12.]]\n"
     ]
    }
   ],
   "source": [
    "# 矢量与标量运算\n",
    "print(1./arr)\n",
    "print(2.*arr)"
   ]
  },
  {
   "cell_type": "markdown",
   "metadata": {},
   "source": [
    "* 索引与切片"
   ]
  },
  {
   "cell_type": "code",
   "execution_count": 82,
   "metadata": {},
   "outputs": [
    {
     "name": "stdout",
     "output_type": "stream",
     "text": [
      "[0 1 2 3 4 5 6 7 8 9]\n",
      "[2 3 4]\n"
     ]
    }
   ],
   "source": [
    "# 一维数组\n",
    "arr1=np.arange(10)\n",
    "print(arr1)\n",
    "\n",
    "print(arr1[2:5])"
   ]
  },
  {
   "cell_type": "code",
   "execution_count": 83,
   "metadata": {},
   "outputs": [
    {
     "name": "stdout",
     "output_type": "stream",
     "text": [
      "[[ 0  1  2  3]\n",
      " [ 4  5  6  7]\n",
      " [ 8  9 10 11]]\n"
     ]
    }
   ],
   "source": [
    "# 多维数组\n",
    "arr2=np.arange(12).reshape(3,4)\n",
    "print(arr2)"
   ]
  },
  {
   "cell_type": "code",
   "execution_count": 84,
   "metadata": {},
   "outputs": [
    {
     "name": "stdout",
     "output_type": "stream",
     "text": [
      "[4 5 6 7]\n",
      "[[2 3]\n",
      " [6 7]]\n",
      "[[ 1  2]\n",
      " [ 5  6]\n",
      " [ 9 10]]\n"
     ]
    }
   ],
   "source": [
    "print(arr2[1])\n",
    "print(arr2[0:2,2:])\n",
    "print(arr2[:,1:3])"
   ]
  },
  {
   "cell_type": "code",
   "execution_count": 85,
   "metadata": {},
   "outputs": [
    {
     "name": "stdout",
     "output_type": "stream",
     "text": [
      "[[0.46974505 0.93971973 0.76820669]\n",
      " [0.03611819 0.31547965 0.8621926 ]\n",
      " [0.30823207 0.75932821 0.58275245]]\n",
      "[0.03611819 0.8621926  0.58275245]\n"
     ]
    }
   ],
   "source": [
    "# 条件索引\n",
    "# 找出data_arr中2015年后的数据\n",
    "data_arr=np.random.rand(3,3)\n",
    "print(data_arr)\n",
    "\n",
    "year_arr=np.array([[2000,2001,2000],[2005,2002,2009],[2001,2003,2010]])\n",
    "filtered_arr=data_arr[year_arr>=2005]\n",
    "print(filtered_arr)"
   ]
  },
  {
   "cell_type": "code",
   "execution_count": 87,
   "metadata": {},
   "outputs": [
    {
     "name": "stdout",
     "output_type": "stream",
     "text": [
      "[0.46974505 0.76820669 0.31547965]\n"
     ]
    }
   ],
   "source": [
    "# 多个条件\n",
    "filtered_arr=data_arr[(year_arr<=2005)&(year_arr%2==0)]\n",
    "print(filtered_arr)"
   ]
  },
  {
   "cell_type": "markdown",
   "metadata": {},
   "source": [
    "* 转置"
   ]
  },
  {
   "cell_type": "code",
   "execution_count": 88,
   "metadata": {},
   "outputs": [
    {
     "name": "stdout",
     "output_type": "stream",
     "text": [
      "[[0.33012806 0.47486422 0.05028377]\n",
      " [0.29766439 0.84176894 0.69633062]]\n",
      "[[0.33012806 0.29766439]\n",
      " [0.47486422 0.84176894]\n",
      " [0.05028377 0.69633062]]\n"
     ]
    }
   ],
   "source": [
    "arr=np.random.rand(2,3)\n",
    "print(arr)\n",
    "print(arr.transpose())"
   ]
  },
  {
   "cell_type": "code",
   "execution_count": 89,
   "metadata": {},
   "outputs": [
    {
     "name": "stdout",
     "output_type": "stream",
     "text": [
      "[[[0.59677978 0.49702209 0.4196907  0.03574513]\n",
      "  [0.64045272 0.98864343 0.55709733 0.90197004]\n",
      "  [0.56767785 0.8229236  0.52100975 0.12401919]]\n",
      "\n",
      " [[0.9018208  0.41461503 0.96423991 0.89667501]\n",
      "  [0.51624226 0.59301734 0.91022057 0.89589989]\n",
      "  [0.88300795 0.34162557 0.53422216 0.51631513]]]\n",
      "-------------------------\n",
      "[[[0.59677978 0.49702209 0.4196907  0.03574513]\n",
      "  [0.9018208  0.41461503 0.96423991 0.89667501]]\n",
      "\n",
      " [[0.64045272 0.98864343 0.55709733 0.90197004]\n",
      "  [0.51624226 0.59301734 0.91022057 0.89589989]]\n",
      "\n",
      " [[0.56767785 0.8229236  0.52100975 0.12401919]\n",
      "  [0.88300795 0.34162557 0.53422216 0.51631513]]]\n"
     ]
    }
   ],
   "source": [
    "arr3d=np.random.rand(2,3,4)\n",
    "print(arr3d)\n",
    "print('-'*25)\n",
    "print(arr3d.transpose((1,0,2))) # 3x2x4"
   ]
  },
  {
   "cell_type": "markdown",
   "metadata": {},
   "source": [
    "# 通用函数"
   ]
  },
  {
   "cell_type": "code",
   "execution_count": 91,
   "metadata": {},
   "outputs": [
    {
     "name": "stdout",
     "output_type": "stream",
     "text": [
      "[[ 0.16894092  0.42867206 -0.78486066]\n",
      " [ 0.91543548 -2.33880745 -0.53548174]]\n",
      "[[ 1.  1. -0.]\n",
      " [ 1. -2. -0.]]\n",
      "[[ 0.  0. -1.]\n",
      " [ 0. -3. -1.]]\n",
      "[[ 0.  0. -1.]\n",
      " [ 1. -2. -1.]]\n",
      "[[False False False]\n",
      " [False False False]]\n"
     ]
    }
   ],
   "source": [
    "arr=np.random.randn(2,3)\n",
    "print(arr)\n",
    "print(np.ceil(arr))\n",
    "print(np.floor(arr))\n",
    "print(np.rint(arr))\n",
    "print(np.isnan(arr))"
   ]
  },
  {
   "cell_type": "markdown",
   "metadata": {},
   "source": [
    "* ceil,向上最接近的整数\n",
    "* floor，向下最接近的整数\n",
    "* rint，四舍五入\n",
    "* isnan，判断元素是否为NaN（not a number）\n",
    "* multiply，元素相乘\n",
    "* divide，元素相除"
   ]
  },
  {
   "cell_type": "markdown",
   "metadata": {},
   "source": [
    "* np.where"
   ]
  },
  {
   "cell_type": "code",
   "execution_count": 94,
   "metadata": {},
   "outputs": [
    {
     "name": "stdout",
     "output_type": "stream",
     "text": [
      "[[ 0.01964135  1.15782183 -0.57807656 -0.29382371]\n",
      " [ 0.33385994  0.23738802 -0.19049067 -1.37837787]\n",
      " [ 0.30265272  0.73458507  0.91958623 -1.37446009]]\n"
     ]
    },
    {
     "data": {
      "text/plain": [
       "array([[ 1,  1, -1, -1],\n",
       "       [ 1,  1, -1, -1],\n",
       "       [ 1,  1,  1, -1]])"
      ]
     },
     "execution_count": 94,
     "metadata": {},
     "output_type": "execute_result"
    }
   ],
   "source": [
    "arr=np.random.randn(3,4)\n",
    "print(arr)\n",
    "np.where(arr>0,1,-1)"
   ]
  },
  {
   "cell_type": "markdown",
   "metadata": {},
   "source": [
    "* 常用的统计方法"
   ]
  },
  {
   "cell_type": "code",
   "execution_count": 97,
   "metadata": {},
   "outputs": [
    {
     "name": "stdout",
     "output_type": "stream",
     "text": [
      "[[0 1]\n",
      " [2 3]\n",
      " [4 5]\n",
      " [6 7]\n",
      " [8 9]]\n",
      "45\n",
      "[20 25]\n",
      "[ 1  5  9 13 17]\n"
     ]
    }
   ],
   "source": [
    "arr=np.arange(10).reshape(5,2)\n",
    "print(arr)\n",
    "print(np.sum(arr))\n",
    "print(np.sum(arr,axis=0))\n",
    "print(np.sum(arr,axis=1))"
   ]
  },
  {
   "cell_type": "markdown",
   "metadata": {},
   "source": [
    "* np.all和np.any"
   ]
  },
  {
   "cell_type": "code",
   "execution_count": 99,
   "metadata": {
    "scrolled": true
   },
   "outputs": [
    {
     "name": "stdout",
     "output_type": "stream",
     "text": [
      "[[-0.2472489  -0.11884454  1.36611325]\n",
      " [-0.51972639 -1.15237055 -1.12232475]]\n",
      "True\n",
      "False\n"
     ]
    }
   ],
   "source": [
    "arr=np.random.randn(2,3)\n",
    "print(arr)\n",
    "print(np.any(arr>0))\n",
    "print(np.all(arr>0))"
   ]
  },
  {
   "cell_type": "markdown",
   "metadata": {},
   "source": [
    "* np.unique\n",
    "* 找到唯一值并返回结果"
   ]
  },
  {
   "cell_type": "code",
   "execution_count": null,
   "metadata": {},
   "outputs": [],
   "source": []
  }
 ],
 "metadata": {
  "kernelspec": {
   "display_name": "Python 3",
   "language": "python",
   "name": "python3"
  },
  "language_info": {
   "codemirror_mode": {
    "name": "ipython",
    "version": 3
   },
   "file_extension": ".py",
   "mimetype": "text/x-python",
   "name": "python",
   "nbconvert_exporter": "python",
   "pygments_lexer": "ipython3",
   "version": "3.7.3"
  }
 },
 "nbformat": 4,
 "nbformat_minor": 2
}
