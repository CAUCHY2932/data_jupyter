{
 "cells": [
  {
   "cell_type": "markdown",
   "metadata": {},
   "source": [
    "# 情感分析"
   ]
  },
  {
   "cell_type": "markdown",
   "metadata": {},
   "source": [
    "## 使用机器学习实现"
   ]
  },
  {
   "cell_type": "code",
   "execution_count": 6,
   "metadata": {
    "collapsed": false
   },
   "outputs": [
    {
     "name": "stdout",
     "output_type": "stream",
     "text": [
      "0\n"
     ]
    }
   ],
   "source": [
    "# 简单的例子\n",
    "\n",
    "import nltk\n",
    "from nltk.stem import WordNetLemmatizer\n",
    "from nltk.corpus import stopwords\n",
    "from nltk.classify import NaiveBayesClassifier\n",
    "\n",
    "text1 = 'I like the movie so much!'\n",
    "text2 = 'That is a good movie.'\n",
    "text3 = 'This is a great one.'\n",
    "text4 = 'That is a really bad movie.'\n",
    "text5 = 'This is a terrible movie.'\n",
    "\n",
    "def proc_text(text):\n",
    "    \"\"\"\n",
    "        预处处理文本\n",
    "    \"\"\"\n",
    "    # 分词\n",
    "    raw_words = nltk.word_tokenize(text)\n",
    "    \n",
    "    # 词形归一化\n",
    "    wordnet_lematizer = WordNetLemmatizer()    \n",
    "    words = [wordnet_lematizer.lemmatize(raw_word) for raw_word in raw_words]\n",
    "    \n",
    "    # 去除停用词\n",
    "    filtered_words = [word for word in words if word not in stopwords.words('english')]\n",
    "    \n",
    "    # True 表示该词在文本中，为了使用nltk中的分类器\n",
    "    return {word: True for word in filtered_words}\n",
    "\n",
    "# 构造训练样本\n",
    "train_data = [[proc_text(text1), 1],\n",
    "              [proc_text(text2), 1],\n",
    "              [proc_text(text3), 1],\n",
    "              [proc_text(text4), 0],\n",
    "              [proc_text(text5), 0]]\n",
    "\n",
    "# 训练模型\n",
    "nb_model = NaiveBayesClassifier.train(train_data)\n",
    "\n",
    "# 测试模型\n",
    "text6 = 'That is a bad one.'\n",
    "print(nb_model.classify(proc_text(text5)))"
   ]
  },
  {
   "cell_type": "code",
   "execution_count": null,
   "metadata": {
    "collapsed": true
   },
   "outputs": [],
   "source": []
  }
 ],
 "metadata": {
  "kernelspec": {
   "display_name": "Python [conda env:py35]",
   "language": "python",
   "name": "conda-env-py35-py"
  },
  "language_info": {
   "codemirror_mode": {
    "name": "ipython",
    "version": 3
   },
   "file_extension": ".py",
   "mimetype": "text/x-python",
   "name": "python",
   "nbconvert_exporter": "python",
   "pygments_lexer": "ipython3",
   "version": "3.5.2"
  }
 },
 "nbformat": 4,
 "nbformat_minor": 1
}
