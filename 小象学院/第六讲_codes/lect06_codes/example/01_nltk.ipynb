{
 "cells": [
  {
   "cell_type": "markdown",
   "metadata": {},
   "source": [
    "# 语料库"
   ]
  },
  {
   "cell_type": "code",
   "execution_count": 5,
   "metadata": {
    "collapsed": true
   },
   "outputs": [],
   "source": [
    "import nltk\n",
    "from nltk.corpus import brown # 需要下载brown语料库\n",
    "# 引用布朗大学的语料库"
   ]
  },
  {
   "cell_type": "code",
   "execution_count": 6,
   "metadata": {
    "collapsed": false
   },
   "outputs": [
    {
     "name": "stdout",
     "output_type": "stream",
     "text": [
      "['adventure', 'belles_lettres', 'editorial', 'fiction', 'government', 'hobbies', 'humor', 'learned', 'lore', 'mystery', 'news', 'religion', 'reviews', 'romance', 'science_fiction']\n"
     ]
    }
   ],
   "source": [
    "# 查看语料库包含的类别\n",
    "print(brown.categories())"
   ]
  },
  {
   "cell_type": "code",
   "execution_count": 10,
   "metadata": {
    "collapsed": false
   },
   "outputs": [
    {
     "name": "stdout",
     "output_type": "stream",
     "text": [
      "共有57340个句子\n",
      "共有1161192个单词\n"
     ]
    }
   ],
   "source": [
    "# 查看brown语料库\n",
    "print('共有{}个句子'.format(len(brown.sents())))\n",
    "print('共有{}个单词'.format(len(brown.words())))"
   ]
  },
  {
   "cell_type": "markdown",
   "metadata": {},
   "source": [
    "# 分词"
   ]
  },
  {
   "cell_type": "code",
   "execution_count": 12,
   "metadata": {
    "collapsed": false
   },
   "outputs": [
    {
     "name": "stdout",
     "output_type": "stream",
     "text": [
      "['Python', 'is', 'a', 'widely', 'used', 'high-level', 'programming', 'language', 'for', 'general-purpose', 'programming', '.']\n"
     ]
    }
   ],
   "source": [
    "sentence = \"Python is a widely used high-level programming language for general-purpose programming.\"\n",
    "tokens = nltk.word_tokenize(sentence) # 需要下载punkt分词模型\n",
    "print(tokens)"
   ]
  },
  {
   "cell_type": "markdown",
   "metadata": {},
   "source": [
    "# 结巴分词"
   ]
  },
  {
   "cell_type": "code",
   "execution_count": 5,
   "metadata": {
    "collapsed": false
   },
   "outputs": [
    {
     "name": "stdout",
     "output_type": "stream",
     "text": [
      "全模式: 欢迎/ 迎来/ 来到/ 小象/ 学院\n",
      "精确模式: 欢迎/ 来到/ 小/ 象/ 学院\n"
     ]
    }
   ],
   "source": [
    "# 安装 pip install jieba\n",
    "import jieba\n",
    "\n",
    "seg_list = jieba.cut(\"欢迎来到小象学院\", cut_all=True)\n",
    "print(\"全模式: \" + \"/ \".join(seg_list))  # 全模式\n",
    "\n",
    "seg_list = jieba.cut(\"欢迎来到小象学院\", cut_all=False)\n",
    "print(\"精确模式: \" + \"/ \".join(seg_list))  # 精确模式"
   ]
  },
  {
   "cell_type": "markdown",
   "metadata": {},
   "source": [
    "# 词形处理"
   ]
  },
  {
   "cell_type": "markdown",
   "metadata": {},
   "source": [
    "## 词干提取(stemming)"
   ]
  },
  {
   "cell_type": "code",
   "execution_count": 16,
   "metadata": {
    "collapsed": false
   },
   "outputs": [
    {
     "name": "stdout",
     "output_type": "stream",
     "text": [
      "look\n",
      "look\n"
     ]
    }
   ],
   "source": [
    "# PorterStemmer\n",
    "from nltk.stem.porter import PorterStemmer\n",
    "\n",
    "porter_stemmer = PorterStemmer()\n",
    "print(porter_stemmer.stem('looked'))\n",
    "print(porter_stemmer.stem('looking'))"
   ]
  },
  {
   "cell_type": "code",
   "execution_count": 18,
   "metadata": {
    "collapsed": false
   },
   "outputs": [
    {
     "name": "stdout",
     "output_type": "stream",
     "text": [
      "look\n",
      "look\n"
     ]
    }
   ],
   "source": [
    "# SnowballStemmer\n",
    "from nltk.stem import SnowballStemmer\n",
    "\n",
    "snowball_stemmer = SnowballStemmer('english')\n",
    "print(snowball_stemmer.stem('looked'))\n",
    "print(snowball_stemmer.stem('looking'))"
   ]
  },
  {
   "cell_type": "code",
   "execution_count": 19,
   "metadata": {
    "collapsed": false
   },
   "outputs": [
    {
     "name": "stdout",
     "output_type": "stream",
     "text": [
      "look\n",
      "look\n"
     ]
    }
   ],
   "source": [
    "# LancasterStemmer\n",
    "from nltk.stem.lancaster import LancasterStemmer\n",
    "\n",
    "lancaster_stemmer = LancasterStemmer()\n",
    "print(lancaster_stemmer.stem('looked'))\n",
    "print(lancaster_stemmer.stem('looking'))"
   ]
  },
  {
   "cell_type": "markdown",
   "metadata": {},
   "source": [
    "## 词形归并(lemmatization)"
   ]
  },
  {
   "cell_type": "code",
   "execution_count": 25,
   "metadata": {
    "collapsed": false
   },
   "outputs": [
    {
     "name": "stdout",
     "output_type": "stream",
     "text": [
      "cat\n",
      "box\n",
      "are\n",
      "went\n"
     ]
    }
   ],
   "source": [
    "from nltk.stem import WordNetLemmatizer # 需要下载wordnet语料库\n",
    "\n",
    "wordnet_lematizer = WordNetLemmatizer()\n",
    "print(wordnet_lematizer.lemmatize('cats'))\n",
    "print(wordnet_lematizer.lemmatize('boxes'))\n",
    "print(wordnet_lematizer.lemmatize('are'))\n",
    "print(wordnet_lematizer.lemmatize('went'))"
   ]
  },
  {
   "cell_type": "code",
   "execution_count": 38,
   "metadata": {
    "collapsed": false
   },
   "outputs": [
    {
     "name": "stdout",
     "output_type": "stream",
     "text": [
      "be\n",
      "go\n"
     ]
    }
   ],
   "source": [
    "# 指明词性可以更准确地进行lemma\n",
    "# lemmatize 默认为名词\n",
    "print(wordnet_lematizer.lemmatize('are', pos='v'))\n",
    "print(wordnet_lematizer.lemmatize('went', pos='v'))"
   ]
  },
  {
   "cell_type": "markdown",
   "metadata": {},
   "source": [
    "## 词性标注 (Part-Of-Speech)"
   ]
  },
  {
   "cell_type": "code",
   "execution_count": 32,
   "metadata": {
    "collapsed": false
   },
   "outputs": [
    {
     "name": "stdout",
     "output_type": "stream",
     "text": [
      "[('Python', 'NNP'), ('is', 'VBZ'), ('a', 'DT'), ('widely', 'RB'), ('used', 'VBN'), ('programming', 'NN'), ('language', 'NN'), ('.', '.')]\n"
     ]
    }
   ],
   "source": [
    "import nltk\n",
    "\n",
    "words = nltk.word_tokenize('Python is a widely used programming language.')\n",
    "print(nltk.pos_tag(words)) # 需要下载 averaged_perceptron_tagger"
   ]
  },
  {
   "cell_type": "markdown",
   "metadata": {},
   "source": [
    "## 去除停用词"
   ]
  },
  {
   "cell_type": "code",
   "execution_count": 36,
   "metadata": {
    "collapsed": false
   },
   "outputs": [
    {
     "name": "stdout",
     "output_type": "stream",
     "text": [
      "原始词： ['Python', 'is', 'a', 'widely', 'used', 'programming', 'language', '.']\n",
      "去除停用词后： ['Python', 'widely', 'used', 'programming', 'language', '.']\n"
     ]
    }
   ],
   "source": [
    "from nltk.corpus import stopwords # 需要下载stopwords\n",
    "\n",
    "filtered_words = [word for word in words if word not in stopwords.words('english')]\n",
    "print('原始词：', words)\n",
    "print('去除停用词后：', filtered_words)"
   ]
  },
  {
   "cell_type": "markdown",
   "metadata": {},
   "source": [
    "## 典型的文本预处理流程"
   ]
  },
  {
   "cell_type": "code",
   "execution_count": 42,
   "metadata": {
    "collapsed": false
   },
   "outputs": [
    {
     "name": "stdout",
     "output_type": "stream",
     "text": [
      "原始文本： Life is like a box of chocolates. You never know what you're gonna get.\n",
      "预处理结果： ['Life', 'like', 'box', 'chocolate', '.', 'You', 'never', 'know', \"'re\", 'gon', 'na', 'get', '.']\n"
     ]
    }
   ],
   "source": [
    "import nltk\n",
    "from nltk.stem import WordNetLemmatizer\n",
    "from nltk.corpus import stopwords\n",
    "\n",
    "# 原始文本\n",
    "raw_text = 'Life is like a box of chocolates. You never know what you\\'re gonna get.'\n",
    "\n",
    "# 分词\n",
    "raw_words = nltk.word_tokenize(raw_text)\n",
    "\n",
    "# 词形归一化\n",
    "wordnet_lematizer = WordNetLemmatizer()\n",
    "words = [wordnet_lematizer.lemmatize(raw_word) for raw_word in raw_words]\n",
    "\n",
    "# 去除停用词\n",
    "filtered_words = [word for word in words if word not in stopwords.words('english')]\n",
    "\n",
    "print('原始文本：', raw_text)\n",
    "print('预处理结果：', filtered_words)"
   ]
  },
  {
   "cell_type": "code",
   "execution_count": null,
   "metadata": {
    "collapsed": true
   },
   "outputs": [],
   "source": []
  }
 ],
 "metadata": {
  "anaconda-cloud": {},
  "kernelspec": {
   "display_name": "Python [conda env:py35]",
   "language": "python",
   "name": "conda-env-py35-py"
  },
  "language_info": {
   "codemirror_mode": {
    "name": "ipython",
    "version": 3
   },
   "file_extension": ".py",
   "mimetype": "text/x-python",
   "name": "python",
   "nbconvert_exporter": "python",
   "pygments_lexer": "ipython3",
   "version": "3.5.2"
  }
 },
 "nbformat": 4,
 "nbformat_minor": 1
}
