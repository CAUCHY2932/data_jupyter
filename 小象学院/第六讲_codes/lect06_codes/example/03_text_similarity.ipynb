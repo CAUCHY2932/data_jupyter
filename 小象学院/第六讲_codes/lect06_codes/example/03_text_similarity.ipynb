{
 "cells": [
  {
   "cell_type": "markdown",
   "metadata": {},
   "source": [
    "# 文本相似度"
   ]
  },
  {
   "cell_type": "code",
   "execution_count": 4,
   "metadata": {
    "collapsed": false
   },
   "outputs": [
    {
     "name": "stdout",
     "output_type": "stream",
     "text": [
      "4\n"
     ]
    }
   ],
   "source": [
    "import nltk\n",
    "from nltk import FreqDist\n",
    "\n",
    "text1 = 'I like the movie so much '\n",
    "text2 = 'That is a good movie '\n",
    "text3 = 'This is a great one '\n",
    "text4 = 'That is a really bad movie '\n",
    "text5 = 'This is a terrible movie'\n",
    "\n",
    "text = text1 + text2 + text3 + text4 + text5\n",
    "words = nltk.word_tokenize(text)\n",
    "freq_dist = FreqDist(words)\n",
    "print(freq_dist['is'])"
   ]
  },
  {
   "cell_type": "code",
   "execution_count": 11,
   "metadata": {
    "collapsed": false
   },
   "outputs": [
    {
     "name": "stdout",
     "output_type": "stream",
     "text": [
      "[('a', 4), ('movie', 4), ('is', 4), ('This', 2), ('That', 2)]\n"
     ]
    }
   ],
   "source": [
    "# 取出常用的n=5个单词\n",
    "n = 5\n",
    "\n",
    "# 构造“常用单词列表”\n",
    "most_common_words = freq_dist.most_common(n)\n",
    "print(most_common_words)"
   ]
  },
  {
   "cell_type": "code",
   "execution_count": 12,
   "metadata": {
    "collapsed": false
   },
   "outputs": [
    {
     "name": "stdout",
     "output_type": "stream",
     "text": [
      "{'a': 0, 'This': 3, 'movie': 1, 'That': 4, 'is': 2}\n"
     ]
    }
   ],
   "source": [
    "def lookup_pos(most_common_words):\n",
    "    \"\"\"\n",
    "        查找常用单词的位置\n",
    "    \"\"\"\n",
    "    result = {}\n",
    "    pos = 0\n",
    "    for word in most_common_words:\n",
    "        result[word[0]] = pos\n",
    "        pos += 1\n",
    "    return result\n",
    "\n",
    "# 记录位置\n",
    "std_pos_dict = lookup_pos(most_common_words)\n",
    "print(std_pos_dict)"
   ]
  },
  {
   "cell_type": "code",
   "execution_count": 19,
   "metadata": {
    "collapsed": false
   },
   "outputs": [
    {
     "name": "stdout",
     "output_type": "stream",
     "text": [
      "[1, 1, 2, 1, 1]\n"
     ]
    }
   ],
   "source": [
    "# 新文本\n",
    "new_text = 'That one is a good movie. This is so good!'\n",
    "\n",
    "# 初始化向量\n",
    "freq_vec = [0] * n\n",
    "\n",
    "# 分词\n",
    "new_words = nltk.word_tokenize(new_text)\n",
    "\n",
    "# 在“常用单词列表”上计算词频\n",
    "for new_word in new_words:\n",
    "    if new_word in list(std_pos_dict.keys()):\n",
    "        freq_vec[std_pos_dict[new_word]] += 1\n",
    "\n",
    "print(freq_vec)"
   ]
  },
  {
   "cell_type": "code",
   "execution_count": null,
   "metadata": {
    "collapsed": true
   },
   "outputs": [],
   "source": []
  }
 ],
 "metadata": {
  "kernelspec": {
   "display_name": "Python [conda env:py35]",
   "language": "python",
   "name": "conda-env-py35-py"
  },
  "language_info": {
   "codemirror_mode": {
    "name": "ipython",
    "version": 3
   },
   "file_extension": ".py",
   "mimetype": "text/x-python",
   "name": "python",
   "nbconvert_exporter": "python",
   "pygments_lexer": "ipython3",
   "version": "3.5.2"
  }
 },
 "nbformat": 4,
 "nbformat_minor": 1
}
