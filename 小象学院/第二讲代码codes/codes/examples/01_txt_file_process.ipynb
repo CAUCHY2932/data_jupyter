{
 "cells": [
  {
   "cell_type": "markdown",
   "metadata": {},
   "source": [
    "# txt文件操作"
   ]
  },
  {
   "cell_type": "markdown",
   "metadata": {},
   "source": [
    "* 读取全部内容"
   ]
  },
  {
   "cell_type": "code",
   "execution_count": 8,
   "metadata": {
    "scrolled": true
   },
   "outputs": [
    {
     "name": "stdout",
     "output_type": "stream",
     "text": [
      "Python （英国发音：/ˈpaɪθən/ 美国发音：/ˈpaɪθɑːn/）, 是一种面向对象的解释型计算机程序设计语言，由荷兰人Guido van Rossum于1989年发明，第一个公开发行版发行于1991年。\n",
      "Python是纯粹的自由软件， 源代码和解释器CPython遵循 GPL(GNU General Public License)协议。\n",
      "Python语法简洁清晰，特色之一是强制用空白符(white space)作为语句缩进。\n",
      "Python具有丰富和强大的库。它常被昵称为胶水语言，能够把用其他语言制作的各种模块（尤其是C/C++）很轻松地联结在一起。常见的一种应用情形是，使用Python快速生成程序的原型（有时甚至是程序的最终界面），然后对其中[3]  有特别要求的部分，用更合适的语言改写，比如3D游戏中的图形渲染模块，性能要求特别高，就可以用C/C++重写，而后封装为Python可以调用的扩展类库。需要注意的是在您使用扩展类库时可能需要考虑平台问题，某些可能不提供跨平台的实现。\n"
     ]
    }
   ],
   "source": [
    "txt_filename = './files/python_baidu.txt'\n",
    "\n",
    "# 打开文件\n",
    "file_obj = open(txt_filename, 'r', encoding='utf-8')\n",
    "\n",
    "# 读取整个文件内容\n",
    "all_content = file_obj.read()\n",
    "\n",
    "# 关闭文件\n",
    "file_obj.close()\n",
    "\n",
    "print(all_content)"
   ]
  },
  {
   "cell_type": "markdown",
   "metadata": {},
   "source": [
    "* 逐行读取"
   ]
  },
  {
   "cell_type": "code",
   "execution_count": 9,
   "metadata": {},
   "outputs": [
    {
     "name": "stdout",
     "output_type": "stream",
     "text": [
      "Python （英国发音：/ˈpaɪθən/ 美国发音：/ˈpaɪθɑːn/）, 是一种面向对象的解释型计算机程序设计语言，由荷兰人Guido van Rossum于1989年发明，第一个公开发行版发行于1991年。\n",
      "\n"
     ]
    }
   ],
   "source": [
    "txt_filename = './files/python_baidu.txt'\n",
    "\n",
    "# 打开文件\n",
    "file_obj = open(txt_filename, 'r', encoding='utf-8')\n",
    "\n",
    "# 逐行读取\n",
    "line1 = file_obj.readline()\n",
    "print(line1)"
   ]
  },
  {
   "cell_type": "code",
   "execution_count": 10,
   "metadata": {},
   "outputs": [
    {
     "name": "stdout",
     "output_type": "stream",
     "text": [
      "Python是纯粹的自由软件， 源代码和解释器CPython遵循 GPL(GNU General Public License)协议。\n",
      "\n"
     ]
    }
   ],
   "source": [
    "# 继续读下一行\n",
    "line2 = file_obj.readline()\n",
    "print(line2)\n",
    "\n",
    "# 关闭文件\n",
    "file_obj.close()"
   ]
  },
  {
   "cell_type": "markdown",
   "metadata": {},
   "source": [
    "* 读取全部内容，返回列表"
   ]
  },
  {
   "cell_type": "code",
   "execution_count": 12,
   "metadata": {},
   "outputs": [
    {
     "name": "stdout",
     "output_type": "stream",
     "text": [
      "0: Python （英国发音：/ˈpaɪθən/ 美国发音：/ˈpaɪθɑːn/）, 是一种面向对象的解释型计算机程序设计语言，由荷兰人Guido van Rossum于1989年发明，第一个公开发行版发行于1991年。\n",
      "\n",
      "1: Python是纯粹的自由软件， 源代码和解释器CPython遵循 GPL(GNU General Public License)协议。\n",
      "\n",
      "2: Python语法简洁清晰，特色之一是强制用空白符(white space)作为语句缩进。\n",
      "\n",
      "3: Python具有丰富和强大的库。它常被昵称为胶水语言，能够把用其他语言制作的各种模块（尤其是C/C++）很轻松地联结在一起。常见的一种应用情形是，使用Python快速生成程序的原型（有时甚至是程序的最终界面），然后对其中[3]  有特别要求的部分，用更合适的语言改写，比如3D游戏中的图形渲染模块，性能要求特别高，就可以用C/C++重写，而后封装为Python可以调用的扩展类库。需要注意的是在您使用扩展类库时可能需要考虑平台问题，某些可能不提供跨平台的实现。\n"
     ]
    }
   ],
   "source": [
    "txt_filename = './files/python_baidu.txt'\n",
    "\n",
    "# 打开文件\n",
    "file_obj = open(txt_filename, 'r', encoding='utf-8')\n",
    "\n",
    "lines = file_obj.readlines()\n",
    "\n",
    "for i, line in enumerate(lines):\n",
    "    print ('{}: {}'.format(i, line))\n",
    "\n",
    "# 关闭文件\n",
    "file_obj.close()"
   ]
  },
  {
   "cell_type": "markdown",
   "metadata": {},
   "source": [
    "* 写操作"
   ]
  },
  {
   "cell_type": "code",
   "execution_count": 14,
   "metadata": {},
   "outputs": [],
   "source": [
    "txt_filename = './files/test_write.txt'\n",
    "\n",
    "# 打开文件\n",
    "file_obj = open(txt_filename, 'w', encoding='utf-8')\n",
    "\n",
    "# 写入全部内容\n",
    "file_obj.write(\"《Python数据分析》\")\n",
    "file_obj.close()\n"
   ]
  },
  {
   "cell_type": "code",
   "execution_count": 16,
   "metadata": {},
   "outputs": [],
   "source": [
    "txt_filename = './files/test_write.txt'\n",
    "\n",
    "# 打开文件\n",
    "file_obj = open(txt_filename, 'w', encoding='utf-8')\n",
    "\n",
    "# 写入字符串列表\n",
    "lines = ['这是第%i行\\n' %n for n in range(100)]\n",
    "file_obj.writelines(lines)\n",
    "file_obj.close()"
   ]
  },
  {
   "cell_type": "markdown",
   "metadata": {},
   "source": [
    "* with语句"
   ]
  },
  {
   "cell_type": "code",
   "execution_count": 19,
   "metadata": {},
   "outputs": [
    {
     "name": "stdout",
     "output_type": "stream",
     "text": [
      "这是第0行\n",
      "这是第1行\n",
      "这是第2行\n",
      "这是第3行\n",
      "这是第4行\n",
      "这是第5行\n",
      "这是第6行\n",
      "这是第7行\n",
      "这是第8行\n",
      "这是第9行\n",
      "这是第10行\n",
      "这是第11行\n",
      "这是第12行\n",
      "这是第13行\n",
      "这是第14行\n",
      "这是第15行\n",
      "这是第16行\n",
      "这是第17行\n",
      "这是第18行\n",
      "这是第19行\n",
      "这是第20行\n",
      "这是第21行\n",
      "这是第22行\n",
      "这是第23行\n",
      "这是第24行\n",
      "这是第25行\n",
      "这是第26行\n",
      "这是第27行\n",
      "这是第28行\n",
      "这是第29行\n",
      "这是第30行\n",
      "这是第31行\n",
      "这是第32行\n",
      "这是第33行\n",
      "这是第34行\n",
      "这是第35行\n",
      "这是第36行\n",
      "这是第37行\n",
      "这是第38行\n",
      "这是第39行\n",
      "这是第40行\n",
      "这是第41行\n",
      "这是第42行\n",
      "这是第43行\n",
      "这是第44行\n",
      "这是第45行\n",
      "这是第46行\n",
      "这是第47行\n",
      "这是第48行\n",
      "这是第49行\n",
      "这是第50行\n",
      "这是第51行\n",
      "这是第52行\n",
      "这是第53行\n",
      "这是第54行\n",
      "这是第55行\n",
      "这是第56行\n",
      "这是第57行\n",
      "这是第58行\n",
      "这是第59行\n",
      "这是第60行\n",
      "这是第61行\n",
      "这是第62行\n",
      "这是第63行\n",
      "这是第64行\n",
      "这是第65行\n",
      "这是第66行\n",
      "这是第67行\n",
      "这是第68行\n",
      "这是第69行\n",
      "这是第70行\n",
      "这是第71行\n",
      "这是第72行\n",
      "这是第73行\n",
      "这是第74行\n",
      "这是第75行\n",
      "这是第76行\n",
      "这是第77行\n",
      "这是第78行\n",
      "这是第79行\n",
      "这是第80行\n",
      "这是第81行\n",
      "这是第82行\n",
      "这是第83行\n",
      "这是第84行\n",
      "这是第85行\n",
      "这是第86行\n",
      "这是第87行\n",
      "这是第88行\n",
      "这是第89行\n",
      "这是第90行\n",
      "这是第91行\n",
      "这是第92行\n",
      "这是第93行\n",
      "这是第94行\n",
      "这是第95行\n",
      "这是第96行\n",
      "这是第97行\n",
      "这是第98行\n",
      "这是第99行\n",
      "\n"
     ]
    }
   ],
   "source": [
    "txt_filename = './files/test_write.txt'\n",
    "with open(txt_filename, 'r', encoding='utf-8') as f_obj:\n",
    "    print(f_obj.read())\n"
   ]
  },
  {
   "cell_type": "code",
   "execution_count": null,
   "metadata": {
    "collapsed": true
   },
   "outputs": [],
   "source": []
  }
 ],
 "metadata": {
  "anaconda-cloud": {},
  "kernelspec": {
   "display_name": "Python 3",
   "language": "python",
   "name": "python3"
  },
  "language_info": {
   "codemirror_mode": {
    "name": "ipython",
    "version": 3
   },
   "file_extension": ".py",
   "mimetype": "text/x-python",
   "name": "python",
   "nbconvert_exporter": "python",
   "pygments_lexer": "ipython3",
   "version": "3.6.5"
  }
 },
 "nbformat": 4,
 "nbformat_minor": 1
}
