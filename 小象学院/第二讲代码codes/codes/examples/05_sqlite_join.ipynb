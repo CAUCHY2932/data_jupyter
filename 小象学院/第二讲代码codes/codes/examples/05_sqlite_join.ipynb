{
 "cells": [
  {
   "cell_type": "markdown",
   "metadata": {},
   "source": [
    "# 多表连接"
   ]
  },
  {
   "cell_type": "code",
   "execution_count": 1,
   "metadata": {
    "collapsed": true
   },
   "outputs": [],
   "source": [
    "import sqlite3\n",
    "\n",
    "db_path = './files/test_join.sqlite'\n",
    "\n",
    "conn = sqlite3.connect(db_path)\n",
    "cur = conn.cursor()"
   ]
  },
  {
   "cell_type": "code",
   "execution_count": 2,
   "metadata": {},
   "outputs": [
    {
     "data": {
      "text/plain": [
       "<sqlite3.Cursor at 0x4b93ce0>"
      ]
     },
     "execution_count": 2,
     "metadata": {},
     "output_type": "execute_result"
    }
   ],
   "source": [
    "# 建 depaetment 表，并插入数据\n",
    "cur.execute(\"DROP TABLE IF EXISTS department\")\n",
    "cur.execute(\"CREATE TABLE department(\\\n",
    "                id INT PRIMARY KEY NOT NULL, \\\n",
    "                dept CHAR(50) NOT NULL, \\\n",
    "                emp_id INT NOT NULL)\")\n",
    "depts = (\n",
    "        (1, 'IT Builing', 1),\n",
    "        (2, 'Engineerin', 2),\n",
    "        (3, 'Finance', 7)\n",
    ")\n",
    "cur.executemany(\"INSERT INTO department VALUES(?, ?, ?)\", depts)"
   ]
  },
  {
   "cell_type": "code",
   "execution_count": 3,
   "metadata": {},
   "outputs": [
    {
     "data": {
      "text/plain": [
       "<sqlite3.Cursor at 0x4b93ce0>"
      ]
     },
     "execution_count": 3,
     "metadata": {},
     "output_type": "execute_result"
    }
   ],
   "source": [
    "# 建 company 表，并插入数据\n",
    "cur.execute(\"DROP TABLE IF EXISTS company\")\n",
    "cur.execute(\"CREATE TABLE company(\\\n",
    "                    id INT PRIMARY KEY NOT NULL, \\\n",
    "                    name CHAR(50) NOT NULL, \\\n",
    "                    age INT NOT NULL, \\\n",
    "                    address CHAR(50) NOT NULL,\\\n",
    "                    salary DOUBLE NOT NULL)\")\n",
    "companies = (\n",
    "        (1, 'Paul', 32, 'California', 20000.0),\n",
    "        (2, 'Allen', 25, 'Texas', 15000.0),\n",
    "        (3, 'Teddy', 23, 'Norway', 20000.0),\n",
    "        (4, 'Mark', 25, 'Rich-Mond', 65000.0),\n",
    "        (5, 'David', 27, 'Texas', 85000.0),\n",
    "        (6, 'Kim', 22, 'South-Hall', 45000.0),\n",
    "        (7, 'James', 24, 'Houston', 10000.0)\n",
    ")\n",
    "cur.executemany(\"INSERT INTO company VALUES (?, ?, ?, ?, ?)\", companies)"
   ]
  },
  {
   "cell_type": "code",
   "execution_count": 4,
   "metadata": {
    "collapsed": true
   },
   "outputs": [],
   "source": [
    "conn.commit()"
   ]
  },
  {
   "cell_type": "markdown",
   "metadata": {},
   "source": [
    "* CROSS JOIN 交叉连接"
   ]
  },
  {
   "cell_type": "code",
   "execution_count": 6,
   "metadata": {},
   "outputs": [
    {
     "name": "stdout",
     "output_type": "stream",
     "text": [
      "(1, 'Paul', 'IT Builing')\n",
      "(2, 'Paul', 'Engineerin')\n",
      "(7, 'Paul', 'Finance')\n",
      "(1, 'Allen', 'IT Builing')\n",
      "(2, 'Allen', 'Engineerin')\n",
      "(7, 'Allen', 'Finance')\n",
      "(1, 'Teddy', 'IT Builing')\n",
      "(2, 'Teddy', 'Engineerin')\n",
      "(7, 'Teddy', 'Finance')\n",
      "(1, 'Mark', 'IT Builing')\n",
      "(2, 'Mark', 'Engineerin')\n",
      "(7, 'Mark', 'Finance')\n",
      "(1, 'David', 'IT Builing')\n",
      "(2, 'David', 'Engineerin')\n",
      "(7, 'David', 'Finance')\n",
      "(1, 'Kim', 'IT Builing')\n",
      "(2, 'Kim', 'Engineerin')\n",
      "(7, 'Kim', 'Finance')\n",
      "(1, 'James', 'IT Builing')\n",
      "(2, 'James', 'Engineerin')\n",
      "(7, 'James', 'Finance')\n"
     ]
    }
   ],
   "source": [
    "cur.execute(\"SELECT emp_id, name, dept FROM company CROSS JOIN department;\")\n",
    "rows = cur.fetchall()\n",
    "for row in rows:\n",
    "    print(row)"
   ]
  },
  {
   "cell_type": "markdown",
   "metadata": {},
   "source": [
    "* INNER JOIN 内连接"
   ]
  },
  {
   "cell_type": "code",
   "execution_count": 7,
   "metadata": {},
   "outputs": [
    {
     "name": "stdout",
     "output_type": "stream",
     "text": [
      "(1, 'Paul', 'IT Builing')\n",
      "(2, 'Allen', 'Engineerin')\n",
      "(7, 'James', 'Finance')\n"
     ]
    }
   ],
   "source": [
    "cur.execute(\"SELECT emp_id, name, dept FROM company INNER JOIN department \\\n",
    "            ON company.id = department.emp_id;\")\n",
    "rows = cur.fetchall()\n",
    "for row in rows:\n",
    "    print(row)"
   ]
  },
  {
   "cell_type": "markdown",
   "metadata": {},
   "source": [
    "* OUTER JOIN 外连接"
   ]
  },
  {
   "cell_type": "code",
   "execution_count": 8,
   "metadata": {},
   "outputs": [
    {
     "name": "stdout",
     "output_type": "stream",
     "text": [
      "(1, 'Paul', 'IT Builing')\n",
      "(2, 'Allen', 'Engineerin')\n",
      "(None, 'Teddy', None)\n",
      "(None, 'Mark', None)\n",
      "(None, 'David', None)\n",
      "(None, 'Kim', None)\n",
      "(7, 'James', 'Finance')\n"
     ]
    }
   ],
   "source": [
    "# 左连接\n",
    "cur.execute(\"SELECT emp_id, name, dept FROM company LEFT OUTER JOIN department \\\n",
    "            ON company.id = department.emp_id;\")\n",
    "rows = cur.fetchall()\n",
    "for row in rows:\n",
    "    print(row)"
   ]
  },
  {
   "cell_type": "code",
   "execution_count": 9,
   "metadata": {},
   "outputs": [
    {
     "ename": "OperationalError",
     "evalue": "RIGHT and FULL OUTER JOINs are not currently supported",
     "output_type": "error",
     "traceback": [
      "\u001b[0;31m---------------------------------------------------------------------------\u001b[0m",
      "\u001b[0;31mOperationalError\u001b[0m                          Traceback (most recent call last)",
      "\u001b[0;32m<ipython-input-9-15025ca0df81>\u001b[0m in \u001b[0;36m<module>\u001b[0;34m()\u001b[0m\n\u001b[1;32m      1\u001b[0m \u001b[1;31m# 右连接 （目前不支持）\u001b[0m\u001b[1;33m\u001b[0m\u001b[1;33m\u001b[0m\u001b[0m\n\u001b[0;32m----> 2\u001b[0;31m \u001b[0mcur\u001b[0m\u001b[1;33m.\u001b[0m\u001b[0mexecute\u001b[0m\u001b[1;33m(\u001b[0m\u001b[1;34m\"SELECT emp_id, name, dept FROM company RIGHT OUTER JOIN department             ON company.id = department.emp_id;\"\u001b[0m\u001b[1;33m)\u001b[0m\u001b[1;33m\u001b[0m\u001b[0m\n\u001b[0m\u001b[1;32m      3\u001b[0m \u001b[0mrows\u001b[0m \u001b[1;33m=\u001b[0m \u001b[0mcur\u001b[0m\u001b[1;33m.\u001b[0m\u001b[0mfetchall\u001b[0m\u001b[1;33m(\u001b[0m\u001b[1;33m)\u001b[0m\u001b[1;33m\u001b[0m\u001b[0m\n\u001b[1;32m      4\u001b[0m \u001b[1;32mfor\u001b[0m \u001b[0mrow\u001b[0m \u001b[1;32min\u001b[0m \u001b[0mrows\u001b[0m\u001b[1;33m:\u001b[0m\u001b[1;33m\u001b[0m\u001b[0m\n\u001b[1;32m      5\u001b[0m     \u001b[0mprint\u001b[0m\u001b[1;33m(\u001b[0m\u001b[0mrow\u001b[0m\u001b[1;33m)\u001b[0m\u001b[1;33m\u001b[0m\u001b[0m\n",
      "\u001b[0;31mOperationalError\u001b[0m: RIGHT and FULL OUTER JOINs are not currently supported"
     ]
    }
   ],
   "source": [
    "# 右连接 （目前不支持）\n",
    "cur.execute(\"SELECT emp_id, name, dept FROM company RIGHT OUTER JOIN department \\\n",
    "            ON company.id = department.emp_id;\")\n",
    "rows = cur.fetchall()\n",
    "for row in rows:\n",
    "    print(row)"
   ]
  },
  {
   "cell_type": "code",
   "execution_count": 10,
   "metadata": {},
   "outputs": [
    {
     "name": "stdout",
     "output_type": "stream",
     "text": [
      "(1, 'Paul', 'IT Builing')\n",
      "(2, 'Allen', 'Engineerin')\n",
      "(7, 'James', 'Finance')\n"
     ]
    }
   ],
   "source": [
    "# 右连接，交换两张表\n",
    "cur.execute(\"SELECT emp_id, name, dept FROM department LEFT OUTER JOIN company \\\n",
    "            ON company.id = department.emp_id;\")\n",
    "rows = cur.fetchall()\n",
    "for row in rows:\n",
    "    print(row)"
   ]
  }
 ],
 "metadata": {
  "anaconda-cloud": {},
  "kernelspec": {
   "display_name": "Python 3",
   "language": "python",
   "name": "python3"
  },
  "language_info": {
   "codemirror_mode": {
    "name": "ipython",
    "version": 3
   },
   "file_extension": ".py",
   "mimetype": "text/x-python",
   "name": "python",
   "nbconvert_exporter": "python",
   "pygments_lexer": "ipython3",
   "version": "3.6.5"
  }
 },
 "nbformat": 4,
 "nbformat_minor": 1
}
