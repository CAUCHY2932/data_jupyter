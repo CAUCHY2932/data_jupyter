{
 "cells": [
  {
   "cell_type": "markdown",
   "metadata": {},
   "source": [
    "# BeautifulSoup"
   ]
  },
  {
   "cell_type": "code",
   "execution_count": 2,
   "metadata": {},
   "outputs": [],
   "source": [
    "from bs4 import BeautifulSoup\n",
    "import urllib.request"
   ]
  },
  {
   "cell_type": "code",
   "execution_count": 3,
   "metadata": {},
   "outputs": [
    {
     "name": "stdout",
     "output_type": "stream",
     "text": [
      "title tag:  <title>百度一下，你就知道</title>\n"
     ]
    }
   ],
   "source": [
    "html = urllib.request.urlopen(\"http://www.baidu.com\")\n",
    "bs_obj = BeautifulSoup(html, 'html.parser', from_encoding='utf-8');\n",
    "print(\"title tag: \", bs_obj.title)"
   ]
  },
  {
   "cell_type": "markdown",
   "metadata": {},
   "source": [
    "* 查找节点"
   ]
  },
  {
   "cell_type": "code",
   "execution_count": 5,
   "metadata": {},
   "outputs": [],
   "source": [
    "html_doc = \"\"\"\n",
    "<html><head><title>The Dormouse's story</title></head>\n",
    "<body>\n",
    "<p class=\"title\"><b>The Dormouse's story</b></p>\n",
    "\n",
    "<p class=\"story\">Once upon a time there were three little sisters; and their names were\n",
    "<a href=\"http://example.com/elsie\" class=\"sister\" id=\"link1\">Elsie</a>,\n",
    "<a href=\"http://example.com/lacie\" class=\"sister\" id=\"link2\">Lacie</a> and\n",
    "<a href=\"http://example.com/tillie\" class=\"sister\" id=\"link3\">Tillie</a>;\n",
    "and they lived at the bottom of a well.</p>\n",
    "\n",
    "<p class=\"story\">...</p>\n",
    "\"\"\"\n",
    "\n",
    "#创建对象\n",
    "bs_obj = BeautifulSoup(html_doc, 'html.parser')"
   ]
  },
  {
   "cell_type": "markdown",
   "metadata": {},
   "source": [
    "* 按类型查找节点"
   ]
  },
  {
   "cell_type": "code",
   "execution_count": 6,
   "metadata": {},
   "outputs": [
    {
     "name": "stdout",
     "output_type": "stream",
     "text": [
      "1. 提取所有链接\n",
      "a http://example.com/elsie Elsie\n",
      "a http://example.com/lacie Lacie\n",
      "a http://example.com/tillie Tillie\n"
     ]
    }
   ],
   "source": [
    "# 提取所有链接\n",
    "print('1. 提取所有链接')\n",
    "link_list = bs_obj.find_all('a')\n",
    "for link in link_list:\n",
    "    print(link.name, link['href'], link.get_text())"
   ]
  },
  {
   "cell_type": "markdown",
   "metadata": {},
   "source": [
    "* 按属性查找节点"
   ]
  },
  {
   "cell_type": "code",
   "execution_count": 7,
   "metadata": {},
   "outputs": [
    {
     "name": "stdout",
     "output_type": "stream",
     "text": [
      "2. 提取一条链接\n",
      "a http://example.com/lacie Lacie\n"
     ]
    }
   ],
   "source": [
    "# 提取一条链接\n",
    "print('2. 提取一条链接')\n",
    "link = bs_obj.find('a', id='link2')\n",
    "print(link.name, link['href'], link.get_text())"
   ]
  },
  {
   "cell_type": "code",
   "execution_count": 8,
   "metadata": {},
   "outputs": [
    {
     "name": "stdout",
     "output_type": "stream",
     "text": [
      "3. 再提取一条链接\n",
      "a http://example.com/elsie Elsie\n"
     ]
    }
   ],
   "source": [
    "# 再提取一条链接\n",
    "print('3. 再提取一条链接')\n",
    "link = bs_obj.find('a', class_='sister')\n",
    "print(link.name, link['href'], link.get_text())"
   ]
  },
  {
   "cell_type": "markdown",
   "metadata": {
    "collapsed": true
   },
   "source": [
    "* 异常处理"
   ]
  },
  {
   "cell_type": "code",
   "execution_count": 12,
   "metadata": {},
   "outputs": [
    {
     "name": "stdout",
     "output_type": "stream",
     "text": [
      "<urlopen error [Errno 11004] getaddrinfo failed>\n"
     ]
    }
   ],
   "source": [
    "# 服务器和URL的异常处理\n",
    "\n",
    "try:\n",
    "    html = urllib.request.urlopen(\"http://www.wandu.com\")\n",
    "except Exception as e:\n",
    "    print(e)"
   ]
  },
  {
   "cell_type": "code",
   "execution_count": 13,
   "metadata": {},
   "outputs": [
    {
     "name": "stdout",
     "output_type": "stream",
     "text": [
      "yy_tag 标签不存在\n"
     ]
    }
   ],
   "source": [
    "# HTML标签访问异常处理\n",
    "try:\n",
    "    tag_content = bs_obj.title.yy_tag\n",
    "    #tag_content = bs_obj.xx_tag.yy_tag\n",
    "except AttributeError as e:\n",
    "    print(\"xx_tag 标签不存在\")\n",
    "else:\n",
    "    if tag_content is None:\n",
    "        print(\"yy_tag 标签不存在\")\n",
    "    else:\n",
    "        print(tag_content)"
   ]
  },
  {
   "cell_type": "code",
   "execution_count": 14,
   "metadata": {},
   "outputs": [
    {
     "name": "stdout",
     "output_type": "stream",
     "text": [
      "<title>淘宝海外全球站 - 购物首选，淘你喜欢！</title>\n"
     ]
    }
   ],
   "source": [
    "# 创建一个完整的函数处理title\n",
    "\n",
    "def get_html_title(url):\n",
    "    \"\"\"\n",
    "        获取url地址的title\n",
    "    \"\"\"\n",
    "    try:\n",
    "        html = urllib.request.urlopen(url)\n",
    "    except Exception as e:\n",
    "        return None\n",
    "    \n",
    "    try:\n",
    "        bs_obj = BeautifulSoup(html.read(), 'html.parser')\n",
    "        title = bs_obj.title\n",
    "    except Exception as e:\n",
    "        return None\n",
    "    \n",
    "    return title\n",
    "\n",
    "title = get_html_title(\"http://www.taobao.com\")\n",
    "if title is not None:\n",
    "    print(title)\n",
    "else:\n",
    "    print(\"Title获取失败！\")"
   ]
  }
 ],
 "metadata": {
  "anaconda-cloud": {},
  "kernelspec": {
   "display_name": "Python 3",
   "language": "python",
   "name": "python3"
  },
  "language_info": {
   "codemirror_mode": {
    "name": "ipython",
    "version": 3
   },
   "file_extension": ".py",
   "mimetype": "text/x-python",
   "name": "python",
   "nbconvert_exporter": "python",
   "pygments_lexer": "ipython3",
   "version": "3.6.5"
  }
 },
 "nbformat": 4,
 "nbformat_minor": 1
}
