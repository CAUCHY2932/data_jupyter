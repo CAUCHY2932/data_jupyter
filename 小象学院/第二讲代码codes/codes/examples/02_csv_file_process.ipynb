{
 "cells": [
  {
   "cell_type": "markdown",
   "metadata": {},
   "source": [
    "# CSV"
   ]
  },
  {
   "cell_type": "markdown",
   "metadata": {},
   "source": [
    "* pandas读取csv"
   ]
  },
  {
   "cell_type": "code",
   "execution_count": 4,
   "metadata": {},
   "outputs": [
    {
     "name": "stdout",
     "output_type": "stream",
     "text": [
      "<class 'pandas.core.frame.DataFrame'>\n",
      "            国家  男性  女性\n",
      "0       Norway   0   1\n",
      "1  Philippines   0   1\n",
      "2     Slovenia   0   1\n",
      "3      Ireland   4  23\n",
      "4      Nigeria   0   1\n"
     ]
    }
   ],
   "source": [
    "import pandas as pd\n",
    "\n",
    "filename = './files/gender_country.csv'\n",
    "df = pd.read_csv(filename, encoding='utf-16')\n",
    "\n",
    "print(type(df))\n",
    "print(df.head())"
   ]
  },
  {
   "cell_type": "markdown",
   "metadata": {},
   "source": [
    "* series"
   ]
  },
  {
   "cell_type": "code",
   "execution_count": 5,
   "metadata": {},
   "outputs": [
    {
     "name": "stdout",
     "output_type": "stream",
     "text": [
      "<class 'pandas.core.series.Series'>\n",
      "0         Norway\n",
      "1    Philippines\n",
      "2       Slovenia\n",
      "3        Ireland\n",
      "4        Nigeria\n",
      "Name: 国家, dtype: object\n"
     ]
    }
   ],
   "source": [
    "country_se = df[u'国家']\n",
    "print(type(country_se))\n",
    "print(country_se.head())"
   ]
  },
  {
   "cell_type": "markdown",
   "metadata": {},
   "source": [
    "* pandas写csv"
   ]
  },
  {
   "cell_type": "code",
   "execution_count": 6,
   "metadata": {
    "collapsed": true
   },
   "outputs": [],
   "source": [
    "filename = './files/pandas_output.csv'\n",
    "#df.to_csv(filename)\n",
    "df.to_csv(filename, index=None, encoding='utf-8')"
   ]
  },
  {
   "cell_type": "code",
   "execution_count": null,
   "metadata": {
    "collapsed": true
   },
   "outputs": [],
   "source": []
  }
 ],
 "metadata": {
  "anaconda-cloud": {},
  "kernelspec": {
   "display_name": "Python 3",
   "language": "python",
   "name": "python3"
  },
  "language_info": {
   "codemirror_mode": {
    "name": "ipython",
    "version": 3
   },
   "file_extension": ".py",
   "mimetype": "text/x-python",
   "name": "python",
   "nbconvert_exporter": "python",
   "pygments_lexer": "ipython3",
   "version": "3.6.5"
  }
 },
 "nbformat": 4,
 "nbformat_minor": 1
}
