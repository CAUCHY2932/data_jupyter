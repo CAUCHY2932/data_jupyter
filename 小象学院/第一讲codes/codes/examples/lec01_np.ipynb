{
 "cells": [
  {
   "cell_type": "markdown",
   "metadata": {},
   "source": [
    "# NumPy"
   ]
  },
  {
   "cell_type": "markdown",
   "metadata": {},
   "source": [
    "* ndarray 多维数组"
   ]
  },
  {
   "cell_type": "code",
   "execution_count": 2,
   "metadata": {},
   "outputs": [
    {
     "name": "stdout",
     "output_type": "stream",
     "text": [
      "[[ 0.40252658  0.37509588  0.286451  ]\n",
      " [ 0.89310065  0.03391813  0.45979816]]\n",
      "<class 'numpy.ndarray'>\n"
     ]
    }
   ],
   "source": [
    "import numpy as np\n",
    "\n",
    "# 生成指定维度的随机多维数据\n",
    "data = np.random.rand(2, 3)\n",
    "print(data)\n",
    "print(type(data))"
   ]
  },
  {
   "cell_type": "markdown",
   "metadata": {},
   "source": [
    "* ndim, shape 和 dtype 属性"
   ]
  },
  {
   "cell_type": "code",
   "execution_count": 3,
   "metadata": {},
   "outputs": [
    {
     "name": "stdout",
     "output_type": "stream",
     "text": [
      "维度个数 2\n",
      "各维度大小:  (2, 3)\n",
      "数据类型:  float64\n"
     ]
    }
   ],
   "source": [
    "print('维度个数', data.ndim)\n",
    "print('各维度大小: ', data.shape)\n",
    "print('数据类型: ', data.dtype)"
   ]
  },
  {
   "cell_type": "markdown",
   "metadata": {},
   "source": [
    "* 创建ndarray"
   ]
  },
  {
   "cell_type": "code",
   "execution_count": 4,
   "metadata": {},
   "outputs": [
    {
     "name": "stdout",
     "output_type": "stream",
     "text": [
      "[0 1 2 3 4 5 6 7 8 9]\n",
      "(10,)\n",
      "1\n"
     ]
    }
   ],
   "source": [
    "# list转换为 ndarray\n",
    "l = range(10)\n",
    "data = np.array(l)\n",
    "print(data)\n",
    "print(data.shape)\n",
    "print(data.ndim)"
   ]
  },
  {
   "cell_type": "code",
   "execution_count": 5,
   "metadata": {},
   "outputs": [
    {
     "name": "stdout",
     "output_type": "stream",
     "text": [
      "[[0 1 2 3 4 5 6 7 8 9]\n",
      " [0 1 2 3 4 5 6 7 8 9]]\n",
      "(2, 10)\n"
     ]
    }
   ],
   "source": [
    "# 嵌套序列转换为ndarray\n",
    "l2 = [range(10), range(10)]\n",
    "data = np.array(l2)\n",
    "print(data)\n",
    "print(data.shape)"
   ]
  },
  {
   "cell_type": "code",
   "execution_count": 6,
   "metadata": {},
   "outputs": [
    {
     "name": "stdout",
     "output_type": "stream",
     "text": [
      "[[ 0.  0.  0.  0.]\n",
      " [ 0.  0.  0.  0.]\n",
      " [ 0.  0.  0.  0.]]\n",
      "-------------\n",
      "[[ 1.  1.  1.]\n",
      " [ 1.  1.  1.]]\n",
      "-------------\n",
      "[[  4.24399158e-314   8.48798317e-314   1.27319747e-313]\n",
      " [  1.69759663e-313   2.12199580e-314   6.36598737e-314]\n",
      " [  1.06099790e-313   1.48539705e-313   1.90979621e-313]]\n",
      "-------------\n",
      "[[1 2 3]\n",
      " [4 5 6]\n",
      " [7 8 9]]\n"
     ]
    }
   ],
   "source": [
    "# np.zeros, np.ones 和 np.empty\n",
    "\n",
    "# np.zeros\n",
    "zeros_arr = np.zeros((3, 4))\n",
    "\n",
    "# np.ones\n",
    "ones_arr = np.ones((2, 3))\n",
    "\n",
    "# np.empty\n",
    "empty_arr = np.empty((3, 3))\n",
    "\n",
    "# np.empty 指定数据类型\n",
    "empty_int_arr = np.empty((3, 3), int)\n",
    "\n",
    "print(zeros_arr)\n",
    "print('-------------')\n",
    "print(ones_arr)\n",
    "print('-------------')\n",
    "print(empty_arr)\n",
    "print('-------------')\n",
    "print(empty_int_arr)"
   ]
  },
  {
   "cell_type": "code",
   "execution_count": 8,
   "metadata": {},
   "outputs": [
    {
     "name": "stdout",
     "output_type": "stream",
     "text": [
      "[0 1 2 3 4 5 6 7 8 9]\n"
     ]
    }
   ],
   "source": [
    "# np.arange()\n",
    "print(np.arange(10))"
   ]
  },
  {
   "cell_type": "markdown",
   "metadata": {},
   "source": [
    "* ndarray数据类型"
   ]
  },
  {
   "cell_type": "code",
   "execution_count": 9,
   "metadata": {},
   "outputs": [
    {
     "name": "stdout",
     "output_type": "stream",
     "text": [
      "[[ 0.  0.  0.  0.]\n",
      " [ 0.  0.  0.  0.]\n",
      " [ 0.  0.  0.  0.]]\n",
      "float64\n",
      "[[0 0 0 0]\n",
      " [0 0 0 0]\n",
      " [0 0 0 0]]\n",
      "int32\n"
     ]
    }
   ],
   "source": [
    "zeros_float_arr = np.zeros((3, 4), dtype=np.float64)\n",
    "print(zeros_float_arr)\n",
    "print(zeros_float_arr.dtype)\n",
    "\n",
    "# astype转换数据类型\n",
    "zeros_int_arr = zeros_float_arr.astype(np.int32)\n",
    "print(zeros_int_arr)\n",
    "print(zeros_int_arr.dtype)"
   ]
  },
  {
   "cell_type": "markdown",
   "metadata": {
    "collapsed": true
   },
   "source": [
    "* 矢量化 (vectorization)"
   ]
  },
  {
   "cell_type": "code",
   "execution_count": 10,
   "metadata": {},
   "outputs": [
    {
     "name": "stdout",
     "output_type": "stream",
     "text": [
      "元素相乘：\n",
      "[[ 1  4  9]\n",
      " [16 25 36]]\n",
      "矩阵相加：\n",
      "[[ 2  4  6]\n",
      " [ 8 10 12]]\n"
     ]
    }
   ],
   "source": [
    "# 矢量与矢量运算\n",
    "arr = np.array([[1, 2, 3],\n",
    "                [4, 5, 6]])\n",
    "\n",
    "print(\"元素相乘：\")\n",
    "print(arr * arr)\n",
    "\n",
    "print(\"矩阵相加：\")\n",
    "print(arr + arr)"
   ]
  },
  {
   "cell_type": "code",
   "execution_count": 11,
   "metadata": {},
   "outputs": [
    {
     "name": "stdout",
     "output_type": "stream",
     "text": [
      "[[ 1.          0.5         0.33333333]\n",
      " [ 0.25        0.2         0.16666667]]\n",
      "[[  2.   4.   6.]\n",
      " [  8.  10.  12.]]\n"
     ]
    }
   ],
   "source": [
    "# 矢量与标量运算\n",
    "print(1. / arr)\n",
    "print(2. * arr)"
   ]
  },
  {
   "cell_type": "markdown",
   "metadata": {},
   "source": [
    "* 索引与切片"
   ]
  },
  {
   "cell_type": "code",
   "execution_count": 12,
   "metadata": {},
   "outputs": [
    {
     "name": "stdout",
     "output_type": "stream",
     "text": [
      "[0 1 2 3 4 5 6 7 8 9]\n",
      "[2 3 4]\n"
     ]
    }
   ],
   "source": [
    "# 一维数组\n",
    "arr1 = np.arange(10)\n",
    "print(arr1)\n",
    "\n",
    "print(arr1[2:5])"
   ]
  },
  {
   "cell_type": "code",
   "execution_count": 13,
   "metadata": {},
   "outputs": [
    {
     "name": "stdout",
     "output_type": "stream",
     "text": [
      "[[ 0  1  2  3]\n",
      " [ 4  5  6  7]\n",
      " [ 8  9 10 11]]\n"
     ]
    }
   ],
   "source": [
    "# 多维数组\n",
    "arr2 = np.arange(12).reshape(3,4)\n",
    "print(arr2)"
   ]
  },
  {
   "cell_type": "code",
   "execution_count": 14,
   "metadata": {},
   "outputs": [
    {
     "name": "stdout",
     "output_type": "stream",
     "text": [
      "[4 5 6 7]\n",
      "[[2 3]\n",
      " [6 7]]\n",
      "[[ 1  2]\n",
      " [ 5  6]\n",
      " [ 9 10]]\n"
     ]
    }
   ],
   "source": [
    "print(arr2[1])\n",
    "\n",
    "print(arr2[0:2, 2:])\n",
    "\n",
    "print(arr2[:, 1:3])"
   ]
  },
  {
   "cell_type": "code",
   "execution_count": 15,
   "metadata": {},
   "outputs": [
    {
     "name": "stdout",
     "output_type": "stream",
     "text": [
      "[[ 0.90915374  0.1663667   0.33398738]\n",
      " [ 0.80025907  0.34861433  0.73339721]\n",
      " [ 0.6319773   0.81760336  0.63986709]]\n",
      "[ 0.80025907  0.73339721  0.63986709]\n"
     ]
    }
   ],
   "source": [
    "# 条件索引\n",
    "\n",
    "# 找出 data_arr 中 2015年后的数据\n",
    "data_arr = np.random.rand(3,3)\n",
    "print(data_arr)\n",
    "\n",
    "year_arr = np.array([[2000, 2001, 2000],\n",
    "                     [2005, 2002, 2009],\n",
    "                     [2001, 2003, 2010]])\n",
    "\n",
    "#is_year_after_2005 = year_arr >= 2005\n",
    "#print is_year_after_2005, is_year_after_2005.dtype\n",
    "\n",
    "#filtered_arr = data_arr[is_year_after_2005]\n",
    "\n",
    "filtered_arr = data_arr[year_arr >= 2005]\n",
    "print(filtered_arr)"
   ]
  },
  {
   "cell_type": "code",
   "execution_count": 16,
   "metadata": {},
   "outputs": [
    {
     "name": "stdout",
     "output_type": "stream",
     "text": [
      "[ 0.90915374  0.33398738  0.34861433]\n"
     ]
    }
   ],
   "source": [
    "# 多个条件\n",
    "filtered_arr = data_arr[(year_arr <= 2005) & (year_arr % 2 == 0)]\n",
    "print(filtered_arr)"
   ]
  },
  {
   "cell_type": "markdown",
   "metadata": {},
   "source": [
    "* 转置"
   ]
  },
  {
   "cell_type": "code",
   "execution_count": 17,
   "metadata": {},
   "outputs": [
    {
     "name": "stdout",
     "output_type": "stream",
     "text": [
      "[[ 0.79356285  0.6653338   0.07126922]\n",
      " [ 0.49996323  0.93060841  0.16805786]]\n",
      "[[ 0.79356285  0.49996323]\n",
      " [ 0.6653338   0.93060841]\n",
      " [ 0.07126922  0.16805786]]\n"
     ]
    }
   ],
   "source": [
    "arr = np.random.rand(2,3)\n",
    "print(arr)\n",
    "print(arr.transpose())"
   ]
  },
  {
   "cell_type": "code",
   "execution_count": 18,
   "metadata": {},
   "outputs": [
    {
     "name": "stdout",
     "output_type": "stream",
     "text": [
      "[[[ 0.07533279  0.33241798  0.27172617  0.11609248]\n",
      "  [ 0.76681846  0.52051066  0.6896428   0.67371356]\n",
      "  [ 0.00783419  0.10007337  0.2129019   0.797555  ]]\n",
      "\n",
      " [[ 0.090838    0.87627376  0.40256159  0.93520448]\n",
      "  [ 0.91975347  0.32649431  0.03785318  0.23180578]\n",
      "  [ 0.38099443  0.36612974  0.37354004  0.04117499]]]\n",
      "----------------------\n",
      "[[[ 0.07533279  0.33241798  0.27172617  0.11609248]\n",
      "  [ 0.090838    0.87627376  0.40256159  0.93520448]]\n",
      "\n",
      " [[ 0.76681846  0.52051066  0.6896428   0.67371356]\n",
      "  [ 0.91975347  0.32649431  0.03785318  0.23180578]]\n",
      "\n",
      " [[ 0.00783419  0.10007337  0.2129019   0.797555  ]\n",
      "  [ 0.38099443  0.36612974  0.37354004  0.04117499]]]\n"
     ]
    }
   ],
   "source": [
    "arr3d = np.random.rand(2,3,4)\n",
    "print(arr3d)\n",
    "print('----------------------')\n",
    "print(arr3d.transpose((1,0,2))) # 3x2x4 "
   ]
  },
  {
   "cell_type": "markdown",
   "metadata": {},
   "source": [
    "* 通用函数"
   ]
  },
  {
   "cell_type": "code",
   "execution_count": 19,
   "metadata": {},
   "outputs": [
    {
     "name": "stdout",
     "output_type": "stream",
     "text": [
      "[[ 0.80286024 -0.25494811  0.82233072]\n",
      " [-0.54124198 -1.27729749 -0.80643226]]\n",
      "[[ 1. -0.  1.]\n",
      " [-0. -1. -0.]]\n",
      "[[ 0. -1.  0.]\n",
      " [-1. -2. -1.]]\n",
      "[[ 1. -0.  1.]\n",
      " [-1. -1. -1.]]\n",
      "[[False False False]\n",
      " [False False False]]\n"
     ]
    }
   ],
   "source": [
    "arr = np.random.randn(2,3)\n",
    "\n",
    "print(arr)\n",
    "print(np.ceil(arr))\n",
    "print(np.floor(arr))\n",
    "print(np.rint(arr))\n",
    "print(np.isnan(arr))"
   ]
  },
  {
   "cell_type": "markdown",
   "metadata": {},
   "source": [
    "* np.where"
   ]
  },
  {
   "cell_type": "code",
   "execution_count": 20,
   "metadata": {},
   "outputs": [
    {
     "name": "stdout",
     "output_type": "stream",
     "text": [
      "[[-1.239156    0.48230589  0.01207341  0.030358  ]\n",
      " [-0.47182634  0.3205272   0.31465978 -1.02769886]\n",
      " [ 0.2938293   1.03855079 -0.51851337  0.16275925]]\n"
     ]
    },
    {
     "data": {
      "text/plain": [
       "array([[-1,  1,  1,  1],\n",
       "       [-1,  1,  1, -1],\n",
       "       [ 1,  1, -1,  1]])"
      ]
     },
     "execution_count": 20,
     "metadata": {},
     "output_type": "execute_result"
    }
   ],
   "source": [
    "arr = np.random.randn(3,4)\n",
    "print(arr)\n",
    "\n",
    "np.where(arr > 0, 1, -1)"
   ]
  },
  {
   "cell_type": "markdown",
   "metadata": {},
   "source": [
    "*  常用的统计方法"
   ]
  },
  {
   "cell_type": "code",
   "execution_count": 21,
   "metadata": {},
   "outputs": [
    {
     "name": "stdout",
     "output_type": "stream",
     "text": [
      "[[0 1]\n",
      " [2 3]\n",
      " [4 5]\n",
      " [6 7]\n",
      " [8 9]]\n",
      "45\n",
      "[20 25]\n",
      "[ 1  5  9 13 17]\n"
     ]
    }
   ],
   "source": [
    "arr = np.arange(10).reshape(5,2)\n",
    "print(arr)\n",
    "\n",
    "print(np.sum(arr))\n",
    "print(np.sum(arr, axis=0))\n",
    "print(np.sum(arr, axis=1))"
   ]
  },
  {
   "cell_type": "markdown",
   "metadata": {},
   "source": [
    "* np.all 和 np.any"
   ]
  },
  {
   "cell_type": "code",
   "execution_count": 22,
   "metadata": {},
   "outputs": [
    {
     "name": "stdout",
     "output_type": "stream",
     "text": [
      "[[-0.58810594 -1.39092028 -0.9455846 ]\n",
      " [ 2.07338185  0.89882792 -0.15339059]]\n",
      "True\n",
      "False\n"
     ]
    }
   ],
   "source": [
    "arr = np.random.randn(2,3)\n",
    "print(arr)\n",
    "\n",
    "print(np.any(arr > 0))\n",
    "print(np.all(arr > 0))"
   ]
  },
  {
   "cell_type": "markdown",
   "metadata": {},
   "source": [
    "* np.unique"
   ]
  },
  {
   "cell_type": "code",
   "execution_count": 23,
   "metadata": {},
   "outputs": [
    {
     "name": "stdout",
     "output_type": "stream",
     "text": [
      "[[1 2 1]\n",
      " [2 3 4]]\n",
      "[1 2 3 4]\n"
     ]
    }
   ],
   "source": [
    "arr = np.array([[1, 2, 1], [2, 3, 4]])\n",
    "print(arr)\n",
    "print(np.unique(arr))"
   ]
  }
 ],
 "metadata": {
  "anaconda-cloud": {},
  "celltoolbar": "Raw Cell Format",
  "kernelspec": {
   "display_name": "Python 3",
   "language": "python",
   "name": "python3"
  },
  "language_info": {
   "codemirror_mode": {
    "name": "ipython",
    "version": 3
   },
   "file_extension": ".py",
   "mimetype": "text/x-python",
   "name": "python",
   "nbconvert_exporter": "python",
   "pygments_lexer": "ipython3",
   "version": "3.6.5"
  }
 },
 "nbformat": 4,
 "nbformat_minor": 1
}
