{
 "cells": [
  {
   "cell_type": "markdown",
   "metadata": {},
   "source": [
    "# 分组与聚合"
   ]
  },
  {
   "cell_type": "markdown",
   "metadata": {},
   "source": [
    "* GroupBy对象"
   ]
  },
  {
   "cell_type": "code",
   "execution_count": 1,
   "metadata": {
    "collapsed": true
   },
   "outputs": [],
   "source": [
    "import pandas as pd\n",
    "import numpy as np"
   ]
  },
  {
   "cell_type": "code",
   "execution_count": 2,
   "metadata": {},
   "outputs": [
    {
     "name": "stdout",
     "output_type": "stream",
     "text": [
      "      data1     data2 key1   key2\n",
      "0 -0.943078  0.820645    a    one\n",
      "1 -1.429043  0.142617    b    one\n",
      "2  0.832261  0.843898    a    two\n",
      "3  0.906262  0.688165    b  three\n",
      "4  0.541173  0.117232    a    two\n",
      "5 -0.213385 -0.098734    b    two\n",
      "6 -1.291468 -1.186638    a    one\n",
      "7  1.186941  0.809122    a  three\n"
     ]
    }
   ],
   "source": [
    "dict_obj = {'key1' : ['a', 'b', 'a', 'b', \n",
    "                      'a', 'b', 'a', 'a'],\n",
    "            'key2' : ['one', 'one', 'two', 'three',\n",
    "                      'two', 'two', 'one', 'three'],\n",
    "            'data1': np.random.randn(8),\n",
    "            'data2': np.random.randn(8)}\n",
    "df_obj = pd.DataFrame(dict_obj)\n",
    "print(df_obj)"
   ]
  },
  {
   "cell_type": "code",
   "execution_count": 3,
   "metadata": {},
   "outputs": [
    {
     "name": "stdout",
     "output_type": "stream",
     "text": [
      "<class 'pandas.core.groupby.DataFrameGroupBy'>\n"
     ]
    }
   ],
   "source": [
    "# dataframe根据key1进行分组\n",
    "print(type(df_obj.groupby('key1')))"
   ]
  },
  {
   "cell_type": "code",
   "execution_count": 4,
   "metadata": {},
   "outputs": [
    {
     "name": "stdout",
     "output_type": "stream",
     "text": [
      "<class 'pandas.core.groupby.SeriesGroupBy'>\n"
     ]
    }
   ],
   "source": [
    "# data1列根据key1进行分组\n",
    "print(type(df_obj['data1'].groupby(df_obj['key1'])))"
   ]
  },
  {
   "cell_type": "code",
   "execution_count": 4,
   "metadata": {},
   "outputs": [
    {
     "name": "stdout",
     "output_type": "stream",
     "text": [
      "         data1     data2\n",
      "key1                    \n",
      "a     0.065166  0.280852\n",
      "b    -0.245389  0.244016\n",
      "key1\n",
      "a    0.065166\n",
      "b   -0.245389\n",
      "Name: data1, dtype: float64\n"
     ]
    }
   ],
   "source": [
    "# 分组运算\n",
    "grouped1 = df_obj.groupby('key1')\n",
    "print(grouped1.mean())\n",
    "\n",
    "grouped2 = df_obj['data1'].groupby(df_obj['key1'])\n",
    "print(grouped2.mean())"
   ]
  },
  {
   "cell_type": "code",
   "execution_count": 5,
   "metadata": {},
   "outputs": [
    {
     "name": "stdout",
     "output_type": "stream",
     "text": [
      "key1\n",
      "a    5\n",
      "b    3\n",
      "dtype: int64\n",
      "key1\n",
      "a    5\n",
      "b    3\n",
      "dtype: int64\n"
     ]
    }
   ],
   "source": [
    "# size\n",
    "print(grouped1.size())\n",
    "print(grouped2.size())"
   ]
  },
  {
   "cell_type": "code",
   "execution_count": 6,
   "metadata": {},
   "outputs": [
    {
     "data": {
      "text/plain": [
       "<pandas.core.groupby.DataFrameGroupBy object at 0x00000224B6DA5DD8>"
      ]
     },
     "execution_count": 6,
     "metadata": {},
     "output_type": "execute_result"
    }
   ],
   "source": [
    "# 按列名分组\n",
    "df_obj.groupby('key1')"
   ]
  },
  {
   "cell_type": "code",
   "execution_count": 7,
   "metadata": {},
   "outputs": [
    {
     "data": {
      "text/plain": [
       "1    5\n",
       "2    3\n",
       "dtype: int64"
      ]
     },
     "execution_count": 7,
     "metadata": {},
     "output_type": "execute_result"
    }
   ],
   "source": [
    "# 按自定义key分组，列表\n",
    "self_def_key = [1, 1, 2, 2, 2, 1, 1, 1]\n",
    "df_obj.groupby(self_def_key).size()"
   ]
  },
  {
   "cell_type": "code",
   "execution_count": 8,
   "metadata": {},
   "outputs": [
    {
     "data": {
      "text/plain": [
       "key1  key2 \n",
       "a     one      2\n",
       "      three    1\n",
       "      two      2\n",
       "b     one      1\n",
       "      three    1\n",
       "      two      1\n",
       "dtype: int64"
      ]
     },
     "execution_count": 8,
     "metadata": {},
     "output_type": "execute_result"
    }
   ],
   "source": [
    "# 按自定义key分组，多层列表\n",
    "df_obj.groupby([df_obj['key1'], df_obj['key2']]).size()"
   ]
  },
  {
   "cell_type": "code",
   "execution_count": 9,
   "metadata": {},
   "outputs": [
    {
     "name": "stdout",
     "output_type": "stream",
     "text": [
      "key1  key2 \n",
      "a     one      2\n",
      "      three    1\n",
      "      two      2\n",
      "b     one      1\n",
      "      three    1\n",
      "      two      1\n",
      "dtype: int64\n"
     ]
    }
   ],
   "source": [
    "# 按多个列多层分组\n",
    "grouped2 = df_obj.groupby(['key1', 'key2'])\n",
    "print(grouped2.size())"
   ]
  },
  {
   "cell_type": "code",
   "execution_count": 10,
   "metadata": {},
   "outputs": [
    {
     "name": "stdout",
     "output_type": "stream",
     "text": [
      "               data1     data2\n",
      "key2  key1                    \n",
      "one   a    -1.117273 -0.182997\n",
      "      b    -1.429043  0.142617\n",
      "three a     1.186941  0.809122\n",
      "      b     0.906262  0.688165\n",
      "two   a     0.686717  0.480565\n",
      "      b    -0.213385 -0.098734\n",
      "\n",
      "          data1               data2          \n",
      "key1          a         b         a         b\n",
      "key2                                         \n",
      "one   -1.117273 -1.429043 -0.182997  0.142617\n",
      "three  1.186941  0.906262  0.809122  0.688165\n",
      "two    0.686717 -0.213385  0.480565 -0.098734\n"
     ]
    }
   ],
   "source": [
    "# 多层分组按key的顺序进行\n",
    "grouped3 = df_obj.groupby(['key2', 'key1'])\n",
    "print(grouped3.mean())\n",
    "print()\n",
    "print(grouped3.mean().unstack())"
   ]
  },
  {
   "cell_type": "markdown",
   "metadata": {},
   "source": [
    "* GroupBy对象分组迭代"
   ]
  },
  {
   "cell_type": "code",
   "execution_count": 11,
   "metadata": {},
   "outputs": [
    {
     "name": "stdout",
     "output_type": "stream",
     "text": [
      "a\n",
      "      data1     data2 key1   key2\n",
      "0 -0.943078  0.820645    a    one\n",
      "2  0.832261  0.843898    a    two\n",
      "4  0.541173  0.117232    a    two\n",
      "6 -1.291468 -1.186638    a    one\n",
      "7  1.186941  0.809122    a  three\n",
      "b\n",
      "      data1     data2 key1   key2\n",
      "1 -1.429043  0.142617    b    one\n",
      "3  0.906262  0.688165    b  three\n",
      "5 -0.213385 -0.098734    b    two\n"
     ]
    }
   ],
   "source": [
    "# 单层分组\n",
    "for group_name, group_data in grouped1:\n",
    "    print(group_name)\n",
    "    print(group_data)"
   ]
  },
  {
   "cell_type": "code",
   "execution_count": 12,
   "metadata": {},
   "outputs": [
    {
     "name": "stdout",
     "output_type": "stream",
     "text": [
      "('a', 'one')\n",
      "      data1     data2 key1 key2\n",
      "0 -0.943078  0.820645    a  one\n",
      "6 -1.291468 -1.186638    a  one\n",
      "('a', 'three')\n",
      "      data1     data2 key1   key2\n",
      "7  1.186941  0.809122    a  three\n",
      "('a', 'two')\n",
      "      data1     data2 key1 key2\n",
      "2  0.832261  0.843898    a  two\n",
      "4  0.541173  0.117232    a  two\n",
      "('b', 'one')\n",
      "      data1     data2 key1 key2\n",
      "1 -1.429043  0.142617    b  one\n",
      "('b', 'three')\n",
      "      data1     data2 key1   key2\n",
      "3  0.906262  0.688165    b  three\n",
      "('b', 'two')\n",
      "      data1     data2 key1 key2\n",
      "5 -0.213385 -0.098734    b  two\n"
     ]
    }
   ],
   "source": [
    "# 多层分组\n",
    "for group_name, group_data in grouped2:\n",
    "    print(group_name)\n",
    "    print(group_data)"
   ]
  },
  {
   "cell_type": "code",
   "execution_count": 13,
   "metadata": {},
   "outputs": [
    {
     "data": {
      "text/plain": [
       "[('a',       data1     data2 key1   key2\n",
       "  0 -0.943078  0.820645    a    one\n",
       "  2  0.832261  0.843898    a    two\n",
       "  4  0.541173  0.117232    a    two\n",
       "  6 -1.291468 -1.186638    a    one\n",
       "  7  1.186941  0.809122    a  three), ('b',       data1     data2 key1   key2\n",
       "  1 -1.429043  0.142617    b    one\n",
       "  3  0.906262  0.688165    b  three\n",
       "  5 -0.213385 -0.098734    b    two)]"
      ]
     },
     "execution_count": 13,
     "metadata": {},
     "output_type": "execute_result"
    }
   ],
   "source": [
    "# GroupBy对象转换list\n",
    "list(grouped1)"
   ]
  },
  {
   "cell_type": "code",
   "execution_count": 14,
   "metadata": {},
   "outputs": [
    {
     "data": {
      "text/plain": [
       "{'a':       data1     data2 key1   key2\n",
       " 0 -0.943078  0.820645    a    one\n",
       " 2  0.832261  0.843898    a    two\n",
       " 4  0.541173  0.117232    a    two\n",
       " 6 -1.291468 -1.186638    a    one\n",
       " 7  1.186941  0.809122    a  three, 'b':       data1     data2 key1   key2\n",
       " 1 -1.429043  0.142617    b    one\n",
       " 3  0.906262  0.688165    b  three\n",
       " 5 -0.213385 -0.098734    b    two}"
      ]
     },
     "execution_count": 14,
     "metadata": {},
     "output_type": "execute_result"
    }
   ],
   "source": [
    "# GroupBy对象转换dict\n",
    "dict(list(grouped1))"
   ]
  },
  {
   "cell_type": "code",
   "execution_count": 15,
   "metadata": {},
   "outputs": [
    {
     "name": "stdout",
     "output_type": "stream",
     "text": [
      "data1    float64\n",
      "data2    float64\n",
      "key1      object\n",
      "key2      object\n",
      "dtype: object\n"
     ]
    },
    {
     "data": {
      "text/html": [
       "<div>\n",
       "<table border=\"1\" class=\"dataframe\">\n",
       "  <thead>\n",
       "    <tr style=\"text-align: right;\">\n",
       "      <th></th>\n",
       "      <th>float64</th>\n",
       "      <th>object</th>\n",
       "    </tr>\n",
       "  </thead>\n",
       "  <tbody>\n",
       "    <tr>\n",
       "      <th>0</th>\n",
       "      <td>-0.122433</td>\n",
       "      <td>aone</td>\n",
       "    </tr>\n",
       "    <tr>\n",
       "      <th>1</th>\n",
       "      <td>-1.286426</td>\n",
       "      <td>bone</td>\n",
       "    </tr>\n",
       "    <tr>\n",
       "      <th>2</th>\n",
       "      <td>1.676158</td>\n",
       "      <td>atwo</td>\n",
       "    </tr>\n",
       "    <tr>\n",
       "      <th>3</th>\n",
       "      <td>1.594427</td>\n",
       "      <td>bthree</td>\n",
       "    </tr>\n",
       "    <tr>\n",
       "      <th>4</th>\n",
       "      <td>0.658404</td>\n",
       "      <td>atwo</td>\n",
       "    </tr>\n",
       "    <tr>\n",
       "      <th>5</th>\n",
       "      <td>-0.312119</td>\n",
       "      <td>btwo</td>\n",
       "    </tr>\n",
       "    <tr>\n",
       "      <th>6</th>\n",
       "      <td>-2.478106</td>\n",
       "      <td>aone</td>\n",
       "    </tr>\n",
       "    <tr>\n",
       "      <th>7</th>\n",
       "      <td>1.996064</td>\n",
       "      <td>athree</td>\n",
       "    </tr>\n",
       "  </tbody>\n",
       "</table>\n",
       "</div>"
      ],
      "text/plain": [
       "    float64  object\n",
       "0 -0.122433    aone\n",
       "1 -1.286426    bone\n",
       "2  1.676158    atwo\n",
       "3  1.594427  bthree\n",
       "4  0.658404    atwo\n",
       "5 -0.312119    btwo\n",
       "6 -2.478106    aone\n",
       "7  1.996064  athree"
      ]
     },
     "execution_count": 15,
     "metadata": {},
     "output_type": "execute_result"
    }
   ],
   "source": [
    "# 按列分组\n",
    "print(df_obj.dtypes)\n",
    "\n",
    "# 按数据类型分组\n",
    "df_obj.groupby(df_obj.dtypes, axis=1).size()\n",
    "df_obj.groupby(df_obj.dtypes, axis=1).sum()"
   ]
  },
  {
   "cell_type": "markdown",
   "metadata": {},
   "source": [
    "* 其他分组方法"
   ]
  },
  {
   "cell_type": "code",
   "execution_count": 16,
   "metadata": {},
   "outputs": [
    {
     "data": {
      "text/html": [
       "<div>\n",
       "<table border=\"1\" class=\"dataframe\">\n",
       "  <thead>\n",
       "    <tr style=\"text-align: right;\">\n",
       "      <th></th>\n",
       "      <th>a</th>\n",
       "      <th>b</th>\n",
       "      <th>c</th>\n",
       "      <th>d</th>\n",
       "      <th>e</th>\n",
       "    </tr>\n",
       "  </thead>\n",
       "  <tbody>\n",
       "    <tr>\n",
       "      <th>A</th>\n",
       "      <td>1</td>\n",
       "      <td>1.0</td>\n",
       "      <td>1.0</td>\n",
       "      <td>6.0</td>\n",
       "      <td>5</td>\n",
       "    </tr>\n",
       "    <tr>\n",
       "      <th>B</th>\n",
       "      <td>2</td>\n",
       "      <td>NaN</td>\n",
       "      <td>NaN</td>\n",
       "      <td>NaN</td>\n",
       "      <td>6</td>\n",
       "    </tr>\n",
       "    <tr>\n",
       "      <th>C</th>\n",
       "      <td>5</td>\n",
       "      <td>5.0</td>\n",
       "      <td>7.0</td>\n",
       "      <td>5.0</td>\n",
       "      <td>7</td>\n",
       "    </tr>\n",
       "    <tr>\n",
       "      <th>D</th>\n",
       "      <td>2</td>\n",
       "      <td>8.0</td>\n",
       "      <td>5.0</td>\n",
       "      <td>6.0</td>\n",
       "      <td>2</td>\n",
       "    </tr>\n",
       "    <tr>\n",
       "      <th>E</th>\n",
       "      <td>5</td>\n",
       "      <td>1.0</td>\n",
       "      <td>4.0</td>\n",
       "      <td>4.0</td>\n",
       "      <td>4</td>\n",
       "    </tr>\n",
       "  </tbody>\n",
       "</table>\n",
       "</div>"
      ],
      "text/plain": [
       "   a    b    c    d  e\n",
       "A  1  1.0  1.0  6.0  5\n",
       "B  2  NaN  NaN  NaN  6\n",
       "C  5  5.0  7.0  5.0  7\n",
       "D  2  8.0  5.0  6.0  2\n",
       "E  5  1.0  4.0  4.0  4"
      ]
     },
     "execution_count": 16,
     "metadata": {},
     "output_type": "execute_result"
    }
   ],
   "source": [
    "df_obj2 = pd.DataFrame(np.random.randint(1, 10, (5,5)),\n",
    "                       columns=['a', 'b', 'c', 'd', 'e'],\n",
    "                       index=['A', 'B', 'C', 'D', 'E'])\n",
    "df_obj2.ix[1, 1:4] = np.NaN\n",
    "df_obj2"
   ]
  },
  {
   "cell_type": "code",
   "execution_count": 18,
   "metadata": {},
   "outputs": [
    {
     "data": {
      "text/html": [
       "<div>\n",
       "<table border=\"1\" class=\"dataframe\">\n",
       "  <thead>\n",
       "    <tr style=\"text-align: right;\">\n",
       "      <th></th>\n",
       "      <th>C</th>\n",
       "      <th>java</th>\n",
       "      <th>python</th>\n",
       "    </tr>\n",
       "  </thead>\n",
       "  <tbody>\n",
       "    <tr>\n",
       "      <th>A</th>\n",
       "      <td>6.0</td>\n",
       "      <td>6.0</td>\n",
       "      <td>2.0</td>\n",
       "    </tr>\n",
       "    <tr>\n",
       "      <th>B</th>\n",
       "      <td>NaN</td>\n",
       "      <td>6.0</td>\n",
       "      <td>2.0</td>\n",
       "    </tr>\n",
       "    <tr>\n",
       "      <th>C</th>\n",
       "      <td>5.0</td>\n",
       "      <td>14.0</td>\n",
       "      <td>10.0</td>\n",
       "    </tr>\n",
       "    <tr>\n",
       "      <th>D</th>\n",
       "      <td>6.0</td>\n",
       "      <td>7.0</td>\n",
       "      <td>10.0</td>\n",
       "    </tr>\n",
       "    <tr>\n",
       "      <th>E</th>\n",
       "      <td>4.0</td>\n",
       "      <td>8.0</td>\n",
       "      <td>6.0</td>\n",
       "    </tr>\n",
       "  </tbody>\n",
       "</table>\n",
       "</div>"
      ],
      "text/plain": [
       "     C  java  python\n",
       "A  6.0   6.0     2.0\n",
       "B  NaN   6.0     2.0\n",
       "C  5.0  14.0    10.0\n",
       "D  6.0   7.0    10.0\n",
       "E  4.0   8.0     6.0"
      ]
     },
     "execution_count": 18,
     "metadata": {},
     "output_type": "execute_result"
    }
   ],
   "source": [
    "# 通过字典分组\n",
    "mapping_dict = {'a':'python', 'b':'python', 'c':'java', 'd':'C', 'e':'java'}\n",
    "df_obj2.groupby(mapping_dict, axis=1).size()\n",
    "df_obj2.groupby(mapping_dict, axis=1).count() # 非NaN的个数\n",
    "df_obj2.groupby(mapping_dict, axis=1).sum()"
   ]
  },
  {
   "cell_type": "code",
   "execution_count": 19,
   "metadata": {},
   "outputs": [
    {
     "data": {
      "text/plain": [
       "1    1\n",
       "2    3\n",
       "3    1\n",
       "dtype: int64"
      ]
     },
     "execution_count": 19,
     "metadata": {},
     "output_type": "execute_result"
    }
   ],
   "source": [
    "# 通过函数分组\n",
    "df_obj3 = pd.DataFrame(np.random.randint(1, 10, (5,5)),\n",
    "                       columns=['a', 'b', 'c', 'd', 'e'],\n",
    "                       index=['AA', 'BBB', 'CC', 'D', 'EE'])\n",
    "#df_obj3\n",
    "\n",
    "def group_key(idx):\n",
    "    \"\"\"\n",
    "        idx 为列索引或行索引\n",
    "    \"\"\"\n",
    "    #return idx\n",
    "    return len(idx)\n",
    "\n",
    "df_obj3.groupby(group_key).size()\n",
    "\n",
    "# 以上自定义函数等价于\n",
    "#df_obj3.groupby(len).size()"
   ]
  },
  {
   "cell_type": "code",
   "execution_count": 20,
   "metadata": {},
   "outputs": [
    {
     "data": {
      "text/html": [
       "<div>\n",
       "<table border=\"1\" class=\"dataframe\">\n",
       "  <thead>\n",
       "    <tr>\n",
       "      <th>language</th>\n",
       "      <th>Python</th>\n",
       "      <th>Java</th>\n",
       "      <th>Python</th>\n",
       "      <th>Java</th>\n",
       "      <th>Python</th>\n",
       "    </tr>\n",
       "    <tr>\n",
       "      <th>index</th>\n",
       "      <th>A</th>\n",
       "      <th>A</th>\n",
       "      <th>B</th>\n",
       "      <th>C</th>\n",
       "      <th>B</th>\n",
       "    </tr>\n",
       "  </thead>\n",
       "  <tbody>\n",
       "    <tr>\n",
       "      <th>0</th>\n",
       "      <td>1</td>\n",
       "      <td>6</td>\n",
       "      <td>4</td>\n",
       "      <td>7</td>\n",
       "      <td>2</td>\n",
       "    </tr>\n",
       "    <tr>\n",
       "      <th>1</th>\n",
       "      <td>9</td>\n",
       "      <td>7</td>\n",
       "      <td>2</td>\n",
       "      <td>2</td>\n",
       "      <td>4</td>\n",
       "    </tr>\n",
       "    <tr>\n",
       "      <th>2</th>\n",
       "      <td>3</td>\n",
       "      <td>9</td>\n",
       "      <td>9</td>\n",
       "      <td>7</td>\n",
       "      <td>5</td>\n",
       "    </tr>\n",
       "    <tr>\n",
       "      <th>3</th>\n",
       "      <td>1</td>\n",
       "      <td>6</td>\n",
       "      <td>1</td>\n",
       "      <td>6</td>\n",
       "      <td>6</td>\n",
       "    </tr>\n",
       "    <tr>\n",
       "      <th>4</th>\n",
       "      <td>5</td>\n",
       "      <td>1</td>\n",
       "      <td>7</td>\n",
       "      <td>3</td>\n",
       "      <td>6</td>\n",
       "    </tr>\n",
       "  </tbody>\n",
       "</table>\n",
       "</div>"
      ],
      "text/plain": [
       "language Python Java Python Java Python\n",
       "index         A    A      B    C      B\n",
       "0             1    6      4    7      2\n",
       "1             9    7      2    2      4\n",
       "2             3    9      9    7      5\n",
       "3             1    6      1    6      6\n",
       "4             5    1      7    3      6"
      ]
     },
     "execution_count": 20,
     "metadata": {},
     "output_type": "execute_result"
    }
   ],
   "source": [
    "# 通过索引级别分组\n",
    "columns = pd.MultiIndex.from_arrays([['Python', 'Java', 'Python', 'Java', 'Python'],\n",
    "                                     ['A', 'A', 'B', 'C', 'B']], names=['language', 'index'])\n",
    "df_obj4 = pd.DataFrame(np.random.randint(1, 10, (5, 5)), columns=columns)\n",
    "df_obj4"
   ]
  },
  {
   "cell_type": "code",
   "execution_count": 21,
   "metadata": {},
   "outputs": [
    {
     "data": {
      "text/html": [
       "<div>\n",
       "<table border=\"1\" class=\"dataframe\">\n",
       "  <thead>\n",
       "    <tr style=\"text-align: right;\">\n",
       "      <th>index</th>\n",
       "      <th>A</th>\n",
       "      <th>B</th>\n",
       "      <th>C</th>\n",
       "    </tr>\n",
       "  </thead>\n",
       "  <tbody>\n",
       "    <tr>\n",
       "      <th>0</th>\n",
       "      <td>7</td>\n",
       "      <td>6</td>\n",
       "      <td>7</td>\n",
       "    </tr>\n",
       "    <tr>\n",
       "      <th>1</th>\n",
       "      <td>16</td>\n",
       "      <td>6</td>\n",
       "      <td>2</td>\n",
       "    </tr>\n",
       "    <tr>\n",
       "      <th>2</th>\n",
       "      <td>12</td>\n",
       "      <td>14</td>\n",
       "      <td>7</td>\n",
       "    </tr>\n",
       "    <tr>\n",
       "      <th>3</th>\n",
       "      <td>7</td>\n",
       "      <td>7</td>\n",
       "      <td>6</td>\n",
       "    </tr>\n",
       "    <tr>\n",
       "      <th>4</th>\n",
       "      <td>6</td>\n",
       "      <td>13</td>\n",
       "      <td>3</td>\n",
       "    </tr>\n",
       "  </tbody>\n",
       "</table>\n",
       "</div>"
      ],
      "text/plain": [
       "index   A   B  C\n",
       "0       7   6  7\n",
       "1      16   6  2\n",
       "2      12  14  7\n",
       "3       7   7  6\n",
       "4       6  13  3"
      ]
     },
     "execution_count": 21,
     "metadata": {},
     "output_type": "execute_result"
    }
   ],
   "source": [
    "# 根据language进行分组\n",
    "df_obj4.groupby(level='language', axis=1).sum()\n",
    "df_obj4.groupby(level='index', axis=1).sum()"
   ]
  },
  {
   "cell_type": "markdown",
   "metadata": {},
   "source": [
    "* 聚合"
   ]
  },
  {
   "cell_type": "code",
   "execution_count": 22,
   "metadata": {},
   "outputs": [
    {
     "name": "stdout",
     "output_type": "stream",
     "text": [
      "   data1  data2 key1   key2\n",
      "0      4      2    a    one\n",
      "1      7      1    b    one\n",
      "2      2      8    a    two\n",
      "3      9      4    b  three\n",
      "4      3      2    a    two\n",
      "5      8      5    b    two\n",
      "6      6      8    a    one\n",
      "7      9      3    a  three\n"
     ]
    }
   ],
   "source": [
    "dict_obj = {'key1' : ['a', 'b', 'a', 'b', \n",
    "                      'a', 'b', 'a', 'a'],\n",
    "            'key2' : ['one', 'one', 'two', 'three',\n",
    "                      'two', 'two', 'one', 'three'],\n",
    "            'data1': np.random.randint(1,10, 8),\n",
    "            'data2': np.random.randint(1,10, 8)}\n",
    "df_obj5 = pd.DataFrame(dict_obj)\n",
    "print(df_obj5)"
   ]
  },
  {
   "cell_type": "code",
   "execution_count": 23,
   "metadata": {},
   "outputs": [
    {
     "name": "stdout",
     "output_type": "stream",
     "text": [
      "      data1  data2\n",
      "key1              \n",
      "a        24     23\n",
      "b        24     10\n",
      "      data1  data2 key2\n",
      "key1                   \n",
      "a         9      8  two\n",
      "b         9      5  two\n",
      "      data1  data2 key2\n",
      "key1                   \n",
      "a         2      2  one\n",
      "b         7      1  one\n",
      "      data1     data2\n",
      "key1                 \n",
      "a       4.8  4.600000\n",
      "b       8.0  3.333333\n",
      "key1\n",
      "a    5\n",
      "b    3\n",
      "dtype: int64\n",
      "      data1  data2  key2\n",
      "key1                    \n",
      "a         5      5     5\n",
      "b         3      3     3\n",
      "               data1     data2\n",
      "key1                          \n",
      "a    count  5.000000  5.000000\n",
      "     mean   4.800000  4.600000\n",
      "     std    2.774887  3.130495\n",
      "     min    2.000000  2.000000\n",
      "     25%    3.000000  2.000000\n",
      "     50%    4.000000  3.000000\n",
      "     75%    6.000000  8.000000\n",
      "     max    9.000000  8.000000\n",
      "b    count  3.000000  3.000000\n",
      "     mean   8.000000  3.333333\n",
      "     std    1.000000  2.081666\n",
      "     min    7.000000  1.000000\n",
      "     25%    7.500000  2.500000\n",
      "     50%    8.000000  4.000000\n",
      "     75%    8.500000  4.500000\n",
      "     max    9.000000  5.000000\n"
     ]
    }
   ],
   "source": [
    "# 内置的聚合函数\n",
    "print(df_obj5.groupby('key1').sum())\n",
    "print(df_obj5.groupby('key1').max())\n",
    "print(df_obj5.groupby('key1').min())\n",
    "print(df_obj5.groupby('key1').mean())\n",
    "print(df_obj5.groupby('key1').size())\n",
    "print(df_obj5.groupby('key1').count())\n",
    "print(df_obj5.groupby('key1').describe())"
   ]
  },
  {
   "cell_type": "code",
   "execution_count": 25,
   "metadata": {},
   "outputs": [
    {
     "name": "stdout",
     "output_type": "stream",
     "text": [
      "      data1  data2\n",
      "key1              \n",
      "a         7      6\n",
      "b         2      4\n",
      "         data1     data2\n",
      "key1                    \n",
      "a     2.478410  2.030536\n",
      "b     2.335305  0.786899\n"
     ]
    }
   ],
   "source": [
    "# 自定义聚合函数\n",
    "def peak_range(df):\n",
    "    \"\"\"\n",
    "        返回数值范围\n",
    "    \"\"\"\n",
    "    #print type(df) #参数为索引所对应的记录\n",
    "    return df.max() - df.min()\n",
    "\n",
    "print(df_obj5.groupby('key1').agg(peak_range))\n",
    "print(df_obj.groupby('key1').agg(lambda df : df.max() - df.min()))"
   ]
  },
  {
   "cell_type": "code",
   "execution_count": 26,
   "metadata": {},
   "outputs": [
    {
     "name": "stdout",
     "output_type": "stream",
     "text": [
      "         data1                                data2                           \n",
      "          mean       std count peak_range      mean       std count peak_range\n",
      "key1                                                                          \n",
      "a     0.065166  1.110226     5   2.478410  0.280852  0.875752     5   2.030536\n",
      "b    -0.245389  1.167982     3   2.335305  0.244016  0.403130     3   0.786899\n"
     ]
    }
   ],
   "source": [
    "# 应用多个聚合函数\n",
    "\n",
    "# 同时应用多个聚合函数\n",
    "print(df_obj.groupby('key1').agg(['mean', 'std', 'count', peak_range])) # 默认列名为函数名"
   ]
  },
  {
   "cell_type": "code",
   "execution_count": 27,
   "metadata": {},
   "outputs": [
    {
     "name": "stdout",
     "output_type": "stream",
     "text": [
      "         data1                               data2                          \n",
      "          mean       std count     range      mean       std count     range\n",
      "key1                                                                        \n",
      "a     0.065166  1.110226     5  2.478410  0.280852  0.875752     5  2.030536\n",
      "b    -0.245389  1.167982     3  2.335305  0.244016  0.403130     3  0.786899\n"
     ]
    }
   ],
   "source": [
    "print(df_obj.groupby('key1').agg(['mean', 'std', 'count', ('range', peak_range)])) # 通过元组提供新的列名"
   ]
  },
  {
   "cell_type": "code",
   "execution_count": 28,
   "metadata": {},
   "outputs": [
    {
     "name": "stdout",
     "output_type": "stream",
     "text": [
      "         data2     data1\n",
      "key1                    \n",
      "a     1.404259  0.065166\n",
      "b     0.732047 -0.245389\n"
     ]
    }
   ],
   "source": [
    "# 每列作用不同的聚合函数\n",
    "dict_mapping = {'data1':'mean',\n",
    "                'data2':'sum'}\n",
    "print(df_obj.groupby('key1').agg(dict_mapping))"
   ]
  },
  {
   "cell_type": "code",
   "execution_count": 29,
   "metadata": {},
   "outputs": [
    {
     "name": "stdout",
     "output_type": "stream",
     "text": [
      "         data2     data1          \n",
      "           sum      mean       max\n",
      "key1                              \n",
      "a     1.404259  0.065166  1.186941\n",
      "b     0.732047 -0.245389  0.906262\n"
     ]
    }
   ],
   "source": [
    "dict_mapping = {'data1':['mean','max'],\n",
    "                'data2':'sum'}\n",
    "print(df_obj.groupby('key1').agg(dict_mapping))"
   ]
  },
  {
   "cell_type": "code",
   "execution_count": null,
   "metadata": {
    "collapsed": true
   },
   "outputs": [],
   "source": []
  }
 ],
 "metadata": {
  "anaconda-cloud": {},
  "kernelspec": {
   "display_name": "Python 3",
   "language": "python",
   "name": "python3"
  },
  "language_info": {
   "codemirror_mode": {
    "name": "ipython",
    "version": 3
   },
   "file_extension": ".py",
   "mimetype": "text/x-python",
   "name": "python",
   "nbconvert_exporter": "python",
   "pygments_lexer": "ipython3",
   "version": "3.6.5"
  }
 },
 "nbformat": 4,
 "nbformat_minor": 1
}
