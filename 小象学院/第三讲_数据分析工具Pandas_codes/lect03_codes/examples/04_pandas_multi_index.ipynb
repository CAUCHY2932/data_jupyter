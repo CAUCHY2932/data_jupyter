{
 "cells": [
  {
   "cell_type": "markdown",
   "metadata": {},
   "source": [
    "# Pandas层级索引"
   ]
  },
  {
   "cell_type": "code",
   "execution_count": 1,
   "metadata": {
    "collapsed": true
   },
   "outputs": [],
   "source": [
    "import pandas as pd\n",
    "import numpy as np"
   ]
  },
  {
   "cell_type": "code",
   "execution_count": 2,
   "metadata": {},
   "outputs": [
    {
     "name": "stdout",
     "output_type": "stream",
     "text": [
      "a  0    0.078539\n",
      "   1    0.643005\n",
      "   2    1.254099\n",
      "b  0    0.569994\n",
      "   1   -1.267482\n",
      "   2   -0.751972\n",
      "c  0    2.579259\n",
      "   1    0.566795\n",
      "   2   -0.796418\n",
      "d  0    1.444369\n",
      "   1   -0.013740\n",
      "   2   -1.541993\n",
      "dtype: float64\n"
     ]
    }
   ],
   "source": [
    "ser_obj = pd.Series(np.random.randn(12),\n",
    "                    index=[['a', 'a', 'a', 'b', 'b', 'b', 'c', 'c', 'c', 'd', 'd', 'd'],\n",
    "                           [0, 1, 2, 0, 1, 2, 0, 1, 2, 0, 1, 2]])\n",
    "print(ser_obj)"
   ]
  },
  {
   "cell_type": "markdown",
   "metadata": {},
   "source": [
    "* MultiIndex索引对象"
   ]
  },
  {
   "cell_type": "code",
   "execution_count": 3,
   "metadata": {},
   "outputs": [
    {
     "name": "stdout",
     "output_type": "stream",
     "text": [
      "<class 'pandas.indexes.multi.MultiIndex'>\n",
      "MultiIndex(levels=[['a', 'b', 'c', 'd'], [0, 1, 2]],\n",
      "           labels=[[0, 0, 0, 1, 1, 1, 2, 2, 2, 3, 3, 3], [0, 1, 2, 0, 1, 2, 0, 1, 2, 0, 1, 2]])\n"
     ]
    }
   ],
   "source": [
    "print(type(ser_obj.index))\n",
    "print(ser_obj.index)"
   ]
  },
  {
   "cell_type": "markdown",
   "metadata": {},
   "source": [
    "* 选取子集"
   ]
  },
  {
   "cell_type": "code",
   "execution_count": 4,
   "metadata": {},
   "outputs": [
    {
     "name": "stdout",
     "output_type": "stream",
     "text": [
      "0    2.579259\n",
      "1    0.566795\n",
      "2   -0.796418\n",
      "dtype: float64\n"
     ]
    }
   ],
   "source": [
    "# 外层选取\n",
    "print(ser_obj['c'])"
   ]
  },
  {
   "cell_type": "code",
   "execution_count": 5,
   "metadata": {},
   "outputs": [
    {
     "name": "stdout",
     "output_type": "stream",
     "text": [
      "a    1.254099\n",
      "b   -0.751972\n",
      "c   -0.796418\n",
      "d   -1.541993\n",
      "dtype: float64\n"
     ]
    }
   ],
   "source": [
    "# 内层选取\n",
    "print(ser_obj[:, 2])"
   ]
  },
  {
   "cell_type": "markdown",
   "metadata": {},
   "source": [
    "* 交换分层顺序"
   ]
  },
  {
   "cell_type": "code",
   "execution_count": 6,
   "metadata": {},
   "outputs": [
    {
     "name": "stdout",
     "output_type": "stream",
     "text": [
      "0  a    0.078539\n",
      "1  a    0.643005\n",
      "2  a    1.254099\n",
      "0  b    0.569994\n",
      "1  b   -1.267482\n",
      "2  b   -0.751972\n",
      "0  c    2.579259\n",
      "1  c    0.566795\n",
      "2  c   -0.796418\n",
      "0  d    1.444369\n",
      "1  d   -0.013740\n",
      "2  d   -1.541993\n",
      "dtype: float64\n"
     ]
    }
   ],
   "source": [
    "print(ser_obj.swaplevel())"
   ]
  },
  {
   "cell_type": "markdown",
   "metadata": {},
   "source": [
    "* 交换并排序分层"
   ]
  },
  {
   "cell_type": "code",
   "execution_count": 7,
   "metadata": {},
   "outputs": [
    {
     "name": "stdout",
     "output_type": "stream",
     "text": [
      "0  a    0.078539\n",
      "   b    0.569994\n",
      "   c    2.579259\n",
      "   d    1.444369\n",
      "1  a    0.643005\n",
      "   b   -1.267482\n",
      "   c    0.566795\n",
      "   d   -0.013740\n",
      "2  a    1.254099\n",
      "   b   -0.751972\n",
      "   c   -0.796418\n",
      "   d   -1.541993\n",
      "dtype: float64\n"
     ]
    }
   ],
   "source": [
    "print(ser_obj.swaplevel().sortlevel())"
   ]
  },
  {
   "cell_type": "code",
   "execution_count": null,
   "metadata": {
    "collapsed": true
   },
   "outputs": [],
   "source": []
  }
 ],
 "metadata": {
  "anaconda-cloud": {},
  "kernelspec": {
   "display_name": "Python 3",
   "language": "python",
   "name": "python3"
  },
  "language_info": {
   "codemirror_mode": {
    "name": "ipython",
    "version": 3
   },
   "file_extension": ".py",
   "mimetype": "text/x-python",
   "name": "python",
   "nbconvert_exporter": "python",
   "pygments_lexer": "ipython3",
   "version": "3.6.5"
  }
 },
 "nbformat": 4,
 "nbformat_minor": 1
}
