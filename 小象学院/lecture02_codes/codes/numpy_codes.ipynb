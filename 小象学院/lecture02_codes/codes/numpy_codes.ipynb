{
 "cells": [
  {
   "cell_type": "markdown",
   "metadata": {},
   "source": [
    "# NumPy"
   ]
  },
  {
   "cell_type": "markdown",
   "metadata": {},
   "source": [
    "* ndarray 多维数组"
   ]
  },
  {
   "cell_type": "code",
   "execution_count": 3,
   "metadata": {},
   "outputs": [
    {
     "name": "stdout",
     "output_type": "stream",
     "text": [
      "[[0.61576953 0.30097925 0.78157855]\n",
      " [0.57715376 0.78154742 0.98379906]]\n",
      "<class 'numpy.ndarray'>\n"
     ]
    }
   ],
   "source": [
    "import numpy as np\n",
    "\n",
    "# 生成指定维度的随机多维数据\n",
    "data = np.random.rand(2, 3)\n",
    "print (data)\n",
    "print (type(data))"
   ]
  },
  {
   "cell_type": "markdown",
   "metadata": {},
   "source": [
    "* ndim, shape 和 dtype 属性"
   ]
  },
  {
   "cell_type": "code",
   "execution_count": 3,
   "metadata": {},
   "outputs": [
    {
     "name": "stdout",
     "output_type": "stream",
     "text": [
      "维度个数 2\n",
      "各维度大小:  (2L, 3L)\n",
      "数据类型:  float64\n"
     ]
    }
   ],
   "source": [
    "print '维度个数', data.ndim\n",
    "print '各维度大小: ', data.shape\n",
    "print '数据类型: ', data.dtype"
   ]
  },
  {
   "cell_type": "markdown",
   "metadata": {},
   "source": [
    "* 创建ndarray"
   ]
  },
  {
   "cell_type": "code",
   "execution_count": 4,
   "metadata": {},
   "outputs": [
    {
     "name": "stdout",
     "output_type": "stream",
     "text": [
      "[0 1 2 3 4 5 6 7 8 9]\n",
      "(10,)\n",
      "1\n"
     ]
    }
   ],
   "source": [
    "# list转换为 ndarray\n",
    "l = range(10)\n",
    "data = np.array(l)\n",
    "print (data)\n",
    "print (data.shape)\n",
    "print (data.ndim)"
   ]
  },
  {
   "cell_type": "code",
   "execution_count": 6,
   "metadata": {},
   "outputs": [
    {
     "name": "stdout",
     "output_type": "stream",
     "text": [
      "[[0 1 2 3 4 5 6 7 8 9]\n",
      " [0 1 2 3 4 5 6 7 8 9]]\n",
      "(2L, 10L)\n"
     ]
    }
   ],
   "source": [
    "# 嵌套序列转换为ndarray\n",
    "l2 = [range(10), range(10)]\n",
    "data = np.array(l2)\n",
    "print data\n",
    "print data.shape"
   ]
  },
  {
   "cell_type": "code",
   "execution_count": 7,
   "metadata": {},
   "outputs": [
    {
     "name": "stdout",
     "output_type": "stream",
     "text": [
      "[[ 0.  0.  0.  0.]\n",
      " [ 0.  0.  0.  0.]\n",
      " [ 0.  0.  0.  0.]]\n",
      "-------------\n",
      "[[ 1.  1.  1.]\n",
      " [ 1.  1.  1.]]\n",
      "-------------\n",
      "[[  4.24399158e-314   8.48798317e-314   1.27319747e-313]\n",
      " [  1.69759663e-313   2.12199580e-314   6.36598737e-314]\n",
      " [  1.06099790e-313   1.48539705e-313   1.90979621e-313]]\n",
      "-------------\n",
      "[[1 2 3]\n",
      " [4 5 6]\n",
      " [7 8 9]]\n"
     ]
    }
   ],
   "source": [
    "# np.zeros, np.ones 和 np.empty\n",
    "\n",
    "# np.zeros\n",
    "zeros_arr = np.zeros((3, 4))\n",
    "\n",
    "# np.ones\n",
    "ones_arr = np.ones((2, 3))\n",
    "\n",
    "# np.empty\n",
    "empty_arr = np.empty((3, 3))\n",
    "\n",
    "# np.empty 指定数据类型\n",
    "empty_int_arr = np.empty((3, 3), int)\n",
    "\n",
    "print zeros_arr\n",
    "print '-------------'\n",
    "print ones_arr\n",
    "print '-------------'\n",
    "print empty_arr\n",
    "print '-------------'\n",
    "print empty_int_arr"
   ]
  },
  {
   "cell_type": "code",
   "execution_count": 8,
   "metadata": {},
   "outputs": [
    {
     "name": "stdout",
     "output_type": "stream",
     "text": [
      "[0 1 2 3 4 5 6 7 8 9]\n"
     ]
    }
   ],
   "source": [
    "# np.arange()\n",
    "print np.arange(10)"
   ]
  },
  {
   "cell_type": "markdown",
   "metadata": {},
   "source": [
    "* ndarray数据类型"
   ]
  },
  {
   "cell_type": "code",
   "execution_count": 9,
   "metadata": {},
   "outputs": [
    {
     "name": "stdout",
     "output_type": "stream",
     "text": [
      "[[ 0.  0.  0.  0.]\n",
      " [ 0.  0.  0.  0.]\n",
      " [ 0.  0.  0.  0.]]\n",
      "float64\n",
      "[[0 0 0 0]\n",
      " [0 0 0 0]\n",
      " [0 0 0 0]]\n",
      "int32\n"
     ]
    }
   ],
   "source": [
    "zeros_float_arr = np.zeros((3, 4), dtype=np.float64)\n",
    "print zeros_float_arr\n",
    "print zeros_float_arr.dtype\n",
    "\n",
    "# astype转换数据类型\n",
    "zeros_int_arr = zeros_float_arr.astype(np.int32)\n",
    "print zeros_int_arr\n",
    "print zeros_int_arr.dtype"
   ]
  },
  {
   "cell_type": "markdown",
   "metadata": {
    "collapsed": true
   },
   "source": [
    "* 矢量化 (vectorization)"
   ]
  },
  {
   "cell_type": "code",
   "execution_count": 11,
   "metadata": {},
   "outputs": [
    {
     "name": "stdout",
     "output_type": "stream",
     "text": [
      "元素相乘：\n",
      "[[ 1  4  9]\n",
      " [16 25 36]]\n",
      "矩阵相加：\n",
      "[[ 2  4  6]\n",
      " [ 8 10 12]]\n"
     ]
    }
   ],
   "source": [
    "# 矢量与矢量运算\n",
    "arr = np.array([[1, 2, 3],\n",
    "                [4, 5, 6]])\n",
    "\n",
    "print \"元素相乘：\"\n",
    "print arr * arr\n",
    "\n",
    "print \"矩阵相加：\"\n",
    "print arr + arr"
   ]
  },
  {
   "cell_type": "code",
   "execution_count": 12,
   "metadata": {},
   "outputs": [
    {
     "name": "stdout",
     "output_type": "stream",
     "text": [
      "[[ 1.          0.5         0.33333333]\n",
      " [ 0.25        0.2         0.16666667]]\n",
      "[[  2.   4.   6.]\n",
      " [  8.  10.  12.]]\n"
     ]
    }
   ],
   "source": [
    "# 矢量与标量运算\n",
    "print 1. / arr\n",
    "print 2. * arr"
   ]
  },
  {
   "cell_type": "markdown",
   "metadata": {},
   "source": [
    "* 索引与切片"
   ]
  },
  {
   "cell_type": "code",
   "execution_count": 13,
   "metadata": {},
   "outputs": [
    {
     "name": "stdout",
     "output_type": "stream",
     "text": [
      "[0 1 2 3 4 5 6 7 8 9]\n",
      "[2 3 4]\n"
     ]
    }
   ],
   "source": [
    "# 一维数组\n",
    "arr1 = np.arange(10)\n",
    "print arr1\n",
    "\n",
    "print arr1[2:5]"
   ]
  },
  {
   "cell_type": "code",
   "execution_count": 14,
   "metadata": {},
   "outputs": [
    {
     "name": "stdout",
     "output_type": "stream",
     "text": [
      "[[ 0  1  2  3]\n",
      " [ 4  5  6  7]\n",
      " [ 8  9 10 11]]\n"
     ]
    }
   ],
   "source": [
    "# 多维数组\n",
    "arr2 = np.arange(12).reshape(3,4)\n",
    "print arr2"
   ]
  },
  {
   "cell_type": "code",
   "execution_count": 16,
   "metadata": {},
   "outputs": [
    {
     "name": "stdout",
     "output_type": "stream",
     "text": [
      "[4 5 6 7]\n",
      "[[2 3]\n",
      " [6 7]]\n",
      "[[ 1  2]\n",
      " [ 5  6]\n",
      " [ 9 10]]\n"
     ]
    }
   ],
   "source": [
    "print arr2[1]\n",
    "\n",
    "print arr2[0:2, 2:]\n",
    "\n",
    "print arr2[:, 1:3]"
   ]
  },
  {
   "cell_type": "code",
   "execution_count": 21,
   "metadata": {},
   "outputs": [
    {
     "name": "stdout",
     "output_type": "stream",
     "text": [
      "[[ 0.07166313  0.42633137  0.02040302]\n",
      " [ 0.31058014  0.38762593  0.60097422]\n",
      " [ 0.49433405  0.70755124  0.1317176 ]]\n",
      "[ 0.31058014  0.60097422  0.1317176 ]\n"
     ]
    }
   ],
   "source": [
    "# 条件索引\n",
    "\n",
    "# 找出 data_arr 中 2015年后的数据\n",
    "data_arr = np.random.rand(3,3)\n",
    "print data_arr\n",
    "\n",
    "year_arr = np.array([[2000, 2001, 2000],\n",
    "                     [2005, 2002, 2009],\n",
    "                     [2001, 2003, 2010]])\n",
    "\n",
    "#is_year_after_2005 = year_arr >= 2005\n",
    "#print is_year_after_2005, is_year_after_2005.dtype\n",
    "\n",
    "#filtered_arr = data_arr[is_year_after_2005]\n",
    "\n",
    "filtered_arr = data_arr[year_arr >= 2005]\n",
    "print filtered_arr"
   ]
  },
  {
   "cell_type": "code",
   "execution_count": 24,
   "metadata": {},
   "outputs": [
    {
     "name": "stdout",
     "output_type": "stream",
     "text": [
      "[ 0.07166313  0.02040302  0.38762593]\n"
     ]
    }
   ],
   "source": [
    "# 多个条件\n",
    "filtered_arr = data_arr[(year_arr <= 2005) & (year_arr % 2 == 0)]\n",
    "print filtered_arr"
   ]
  },
  {
   "cell_type": "markdown",
   "metadata": {},
   "source": [
    "* 转置"
   ]
  },
  {
   "cell_type": "code",
   "execution_count": 25,
   "metadata": {},
   "outputs": [
    {
     "name": "stdout",
     "output_type": "stream",
     "text": [
      "[[ 0.16458663  0.6936825   0.46905292]\n",
      " [ 0.29562744  0.31928778  0.36437373]]\n",
      "[[ 0.16458663  0.29562744]\n",
      " [ 0.6936825   0.31928778]\n",
      " [ 0.46905292  0.36437373]]\n"
     ]
    }
   ],
   "source": [
    "arr = np.random.rand(2,3)\n",
    "print arr\n",
    "print arr.transpose()"
   ]
  },
  {
   "cell_type": "code",
   "execution_count": 27,
   "metadata": {},
   "outputs": [
    {
     "name": "stdout",
     "output_type": "stream",
     "text": [
      "[[[ 0.14699539  0.08902541  0.17458908  0.32659155]\n",
      "  [ 0.54453332  0.26984142  0.47730464  0.83706498]\n",
      "  [ 0.33988875  0.73916577  0.90933063  0.54494924]]\n",
      "\n",
      " [[ 0.87768156  0.14726012  0.90562875  0.33527272]\n",
      "  [ 0.98397683  0.41365028  0.41360414  0.1631329 ]\n",
      "  [ 0.87495904  0.60980826  0.03361339  0.94806629]]]\n",
      "----------------------\n",
      "[[[ 0.14699539  0.08902541  0.17458908  0.32659155]\n",
      "  [ 0.87768156  0.14726012  0.90562875  0.33527272]]\n",
      "\n",
      " [[ 0.54453332  0.26984142  0.47730464  0.83706498]\n",
      "  [ 0.98397683  0.41365028  0.41360414  0.1631329 ]]\n",
      "\n",
      " [[ 0.33988875  0.73916577  0.90933063  0.54494924]\n",
      "  [ 0.87495904  0.60980826  0.03361339  0.94806629]]]\n"
     ]
    }
   ],
   "source": [
    "arr3d = np.random.rand(2,3,4)\n",
    "print arr3d\n",
    "print '----------------------'\n",
    "print arr3d.transpose((1,0,2)) # 3x2x4 "
   ]
  },
  {
   "cell_type": "markdown",
   "metadata": {},
   "source": [
    "* 通用函数\n",
    "    * ceil,向上最接近的整数\n",
    "    * floor，向下最接近的整数\n",
    "    * rint，四舍五入\n",
    "    * isnan，判断元素是否为NaN（not a number）\n",
    "    * multiply，元素相乘\n",
    "    * divide，元素相除"
   ]
  },
  {
   "cell_type": "code",
   "execution_count": 28,
   "metadata": {},
   "outputs": [
    {
     "name": "stdout",
     "output_type": "stream",
     "text": [
      "[[-1.62460632 -1.18092308 -2.39703947]\n",
      " [-0.81349911  0.70397588  0.02779874]]\n",
      "[[-1. -1. -2.]\n",
      " [-0.  1.  1.]]\n",
      "[[-2. -2. -3.]\n",
      " [-1.  0.  0.]]\n",
      "[[-2. -1. -2.]\n",
      " [-1.  1.  0.]]\n",
      "[[False False False]\n",
      " [False False False]]\n"
     ]
    }
   ],
   "source": [
    "arr = np.random.randn(2,3)\n",
    "\n",
    "print arr\n",
    "print np.ceil(arr)\n",
    "print np.floor(arr)\n",
    "print np.rint(arr)\n",
    "print np.isnan(arr)"
   ]
  },
  {
   "cell_type": "markdown",
   "metadata": {},
   "source": [
    "* np.where\n",
    "    * 矢量版本的三元表达式 x if condition else y\n",
    "    * np.where(condition ,x,y)"
   ]
  },
  {
   "cell_type": "code",
   "execution_count": 30,
   "metadata": {},
   "outputs": [
    {
     "name": "stdout",
     "output_type": "stream",
     "text": [
      "[[ 2.22102669  0.28035455 -0.4248306  -0.1379293 ]\n",
      " [-1.80563782 -0.18708944 -0.11321141 -0.28173546]\n",
      " [-1.21924996 -0.40588777  0.2543282  -0.64581653]]\n"
     ]
    },
    {
     "data": {
      "text/plain": [
       "array([[ 1,  1, -1, -1],\n",
       "       [-1, -1, -1, -1],\n",
       "       [-1, -1,  1, -1]])"
      ]
     },
     "execution_count": 30,
     "metadata": {},
     "output_type": "execute_result"
    }
   ],
   "source": [
    "arr = np.random.randn(3,4)\n",
    "print arr\n",
    "\n",
    "np.where(arr > 0, 1, -1)"
   ]
  },
  {
   "cell_type": "markdown",
   "metadata": {},
   "source": [
    "*  常用的统计方法"
   ]
  },
  {
   "cell_type": "code",
   "execution_count": 31,
   "metadata": {},
   "outputs": [
    {
     "name": "stdout",
     "output_type": "stream",
     "text": [
      "[[0 1]\n",
      " [2 3]\n",
      " [4 5]\n",
      " [6 7]\n",
      " [8 9]]\n",
      "45\n",
      "[20 25]\n",
      "[ 1  5  9 13 17]\n"
     ]
    }
   ],
   "source": [
    "arr = np.arange(10).reshape(5,2)\n",
    "print arr\n",
    "\n",
    "print np.sum(arr)\n",
    "print np.sum(arr, axis=0)\n",
    "print np.sum(arr, axis=1)"
   ]
  },
  {
   "cell_type": "markdown",
   "metadata": {},
   "source": [
    "* np.all 和 np.any"
   ]
  },
  {
   "cell_type": "code",
   "execution_count": 32,
   "metadata": {},
   "outputs": [
    {
     "name": "stdout",
     "output_type": "stream",
     "text": [
      "[[-1.42587797  1.23918441 -0.76012806]\n",
      " [ 0.03751768  0.12935382 -0.59707585]]\n",
      "True\n",
      "False\n"
     ]
    }
   ],
   "source": [
    "arr = np.random.randn(2,3)\n",
    "print arr\n",
    "\n",
    "print np.any(arr > 0)\n",
    "print np.all(arr > 0)"
   ]
  },
  {
   "cell_type": "markdown",
   "metadata": {},
   "source": [
    "* np.unique"
   ]
  },
  {
   "cell_type": "code",
   "execution_count": 33,
   "metadata": {},
   "outputs": [
    {
     "name": "stdout",
     "output_type": "stream",
     "text": [
      "[[1 2 1]\n",
      " [2 3 4]]\n",
      "[1 2 3 4]\n"
     ]
    }
   ],
   "source": [
    "arr = np.array([[1, 2, 1], [2, 3, 4]])\n",
    "print arr\n",
    "print np.unique(arr)"
   ]
  },
  {
   "cell_type": "markdown",
   "metadata": {},
   "source": [
    "* 文本文件的读取"
   ]
  },
  {
   "cell_type": "code",
   "execution_count": 34,
   "metadata": {},
   "outputs": [
    {
     "name": "stdout",
     "output_type": "stream",
     "text": [
      "[['cycle' 'type' 'matchup']\n",
      " ['2016' '\"polls-plus\"' '\"Clinton vs. Trump vs. Johnson\"']\n",
      " ['2016' '\"polls-plus\"' '\"Clinton vs. Trump vs. Johnson\"']\n",
      " ..., \n",
      " ['2016' '\"polls-only\"' '\"Clinton vs. Trump vs. Johnson\"']\n",
      " ['2016' '\"polls-only\"' '\"Clinton vs. Trump vs. Johnson\"']\n",
      " ['2016' '\"polls-only\"' '\"Clinton vs. Trump vs. Johnson\"']] (10237L, 3L)\n"
     ]
    }
   ],
   "source": [
    "# loadtxt\n",
    "filename = './presidential_polls.csv'\n",
    "data_array = np.loadtxt(filename,      # 文件名\n",
    "                        delimiter=',', # 分隔符\n",
    "                        dtype=str,     # 数据类型\n",
    "                        usecols=(0,2,3)) # 指定读取的列索引号\n",
    "print data_array, data_array.shape"
   ]
  },
  {
   "cell_type": "code",
   "execution_count": 35,
   "metadata": {},
   "outputs": [
    {
     "name": "stdout",
     "output_type": "stream",
     "text": [
      "[(2016, '\"polls-plus\"', '\"Clinton vs. Trump vs. Johnson\"')\n",
      " (2016, '\"polls-plus\"', '\"Clinton vs. Trump vs. Johnson\"')\n",
      " (2016, '\"polls-plus\"', '\"Clinton vs. Trump vs. Johnson\"') ...,\n",
      " (2016, '\"polls-only\"', '\"Clinton vs. Trump vs. Johnson\"')\n",
      " (2016, '\"polls-only\"', '\"Clinton vs. Trump vs. Johnson\"')\n",
      " (2016, '\"polls-only\"', '\"Clinton vs. Trump vs. Johnson\"')] (10236L,)\n"
     ]
    }
   ],
   "source": [
    "# loadtxt, 明确指定每列数据的类型\n",
    "filename = './presidential_polls.csv'\n",
    "data_array = np.loadtxt(filename,      # 文件名\n",
    "                        delimiter=',', # 分隔符\n",
    "                        skiprows=1,\n",
    "                        dtype={'names':('cycle', 'type', 'matchup'),\n",
    "                               'formats':('i4', 'S15', 'S50')},     # 数据类型\n",
    "                        usecols=(0,2,3)) # 指定读取的列索引号\n",
    "\n",
    "print data_array, data_array.shape # 读取的结果是一维的数组，每个元素是一个元组"
   ]
  },
  {
   "cell_type": "code",
   "execution_count": null,
   "metadata": {
    "collapsed": true
   },
   "outputs": [],
   "source": []
  }
 ],
 "metadata": {
  "anaconda-cloud": {},
  "celltoolbar": "Raw Cell Format",
  "kernelspec": {
   "display_name": "Python 3",
   "language": "python",
   "name": "python3"
  },
  "language_info": {
   "codemirror_mode": {
    "name": "ipython",
    "version": 3
   },
   "file_extension": ".py",
   "mimetype": "text/x-python",
   "name": "python",
   "nbconvert_exporter": "python",
   "pygments_lexer": "ipython3",
   "version": "3.6.5"
  }
 },
 "nbformat": 4,
 "nbformat_minor": 1
}
