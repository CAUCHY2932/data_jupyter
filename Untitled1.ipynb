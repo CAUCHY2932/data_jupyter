{
 "cells": [
  {
   "cell_type": "code",
   "execution_count": 2,
   "metadata": {},
   "outputs": [],
   "source": [
    "import socket"
   ]
  },
  {
   "cell_type": "code",
   "execution_count": 3,
   "metadata": {},
   "outputs": [],
   "source": [
    "host_name = socket.gethostname()"
   ]
  },
  {
   "cell_type": "code",
   "execution_count": 4,
   "metadata": {},
   "outputs": [
    {
     "data": {
      "text/plain": [
       "'cdn-vm-hp-100'"
      ]
     },
     "execution_count": 4,
     "metadata": {},
     "output_type": "execute_result"
    }
   ],
   "source": [
    "host_name"
   ]
  },
  {
   "cell_type": "code",
   "execution_count": 7,
   "metadata": {},
   "outputs": [],
   "source": [
    "rdd = sc.parallelize(x)"
   ]
  },
  {
   "cell_type": "code",
   "execution_count": 8,
   "metadata": {},
   "outputs": [
    {
     "data": {
      "text/plain": [
       "ParallelCollectionRDD[0] at parallelize at PythonRDD.scala:195"
      ]
     },
     "execution_count": 8,
     "metadata": {},
     "output_type": "execute_result"
    }
   ],
   "source": [
    "rdd"
   ]
  },
  {
   "cell_type": "code",
   "execution_count": 5,
   "metadata": {},
   "outputs": [
    {
     "data": {
      "text/plain": [
       "\u001b[0;31mType:\u001b[0m        module\n",
       "\u001b[0;31mString form:\u001b[0m <module 'socket' from '/home/miniconda3/lib/python3.7/socket.py'>\n",
       "\u001b[0;31mFile:\u001b[0m        /home/miniconda3/lib/python3.7/socket.py\n",
       "\u001b[0;31mDocstring:\u001b[0m  \n",
       "This module provides socket operations and some related functions.\n",
       "On Unix, it supports IP (Internet Protocol) and Unix domain sockets.\n",
       "On other systems, it only supports IP. Functions specific for a\n",
       "socket are available as methods of the socket object.\n",
       "\n",
       "Functions:\n",
       "\n",
       "socket() -- create a new socket object\n",
       "socketpair() -- create a pair of new socket objects [*]\n",
       "fromfd() -- create a socket object from an open file descriptor [*]\n",
       "fromshare() -- create a socket object from data received from socket.share() [*]\n",
       "gethostname() -- return the current hostname\n",
       "gethostbyname() -- map a hostname to its IP number\n",
       "gethostbyaddr() -- map an IP number or hostname to DNS info\n",
       "getservbyname() -- map a service name and a protocol name to a port number\n",
       "getprotobyname() -- map a protocol name (e.g. 'tcp') to a number\n",
       "ntohs(), ntohl() -- convert 16, 32 bit int from network to host byte order\n",
       "htons(), htonl() -- convert 16, 32 bit int from host to network byte order\n",
       "inet_aton() -- convert IP addr string (123.45.67.89) to 32-bit packed format\n",
       "inet_ntoa() -- convert 32-bit packed format IP to string (123.45.67.89)\n",
       "socket.getdefaulttimeout() -- get the default timeout value\n",
       "socket.setdefaulttimeout() -- set the default timeout value\n",
       "create_connection() -- connects to an address, with an optional timeout and\n",
       "                       optional source address.\n",
       "\n",
       " [*] not available on all platforms!\n",
       "\n",
       "Special objects:\n",
       "\n",
       "SocketType -- type object for socket objects\n",
       "error -- exception raised for I/O errors\n",
       "has_ipv6 -- boolean value indicating if IPv6 is supported\n",
       "\n",
       "IntEnum constants:\n",
       "\n",
       "AF_INET, AF_UNIX -- socket domains (first argument to socket() call)\n",
       "SOCK_STREAM, SOCK_DGRAM, SOCK_RAW -- socket types (second argument)\n",
       "\n",
       "Integer constants:\n",
       "\n",
       "Many other constants may be defined; these may be used in calls to\n",
       "the setsockopt() and getsockopt() methods.\n"
      ]
     },
     "metadata": {},
     "output_type": "display_data"
    }
   ],
   "source": [
    "?socket"
   ]
  },
  {
   "cell_type": "code",
   "execution_count": null,
   "metadata": {},
   "outputs": [],
   "source": []
  }
 ],
 "metadata": {
  "kernelspec": {
   "display_name": "Python 3",
   "language": "python",
   "name": "python3"
  },
  "language_info": {
   "codemirror_mode": {
    "name": "ipython",
    "version": 3
   },
   "file_extension": ".py",
   "mimetype": "text/x-python",
   "name": "python",
   "nbconvert_exporter": "python",
   "pygments_lexer": "ipython3",
   "version": "3.7.1"
  }
 },
 "nbformat": 4,
 "nbformat_minor": 2
}
